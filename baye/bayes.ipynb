{
 "cells": [
  {
   "cell_type": "code",
   "execution_count": 1,
   "metadata": {},
   "outputs": [],
   "source": [
    "import bayes\n",
    "from imp import reload"
   ]
  },
  {
   "cell_type": "code",
   "execution_count": 2,
   "metadata": {},
   "outputs": [],
   "source": [
    "listOPosts, listClasses = bayes.loadDataSet()"
   ]
  },
  {
   "cell_type": "code",
   "execution_count": 3,
   "metadata": {},
   "outputs": [],
   "source": [
    "myVocabList = bayes.createVocabList(listOPosts)"
   ]
  },
  {
   "cell_type": "code",
   "execution_count": 4,
   "metadata": {},
   "outputs": [
    {
     "data": {
      "text/plain": [
       "['I',\n",
       " 'dalmation',\n",
       " 'please',\n",
       " 'food',\n",
       " 'help',\n",
       " 'so',\n",
       " 'love',\n",
       " 'licks',\n",
       " 'ate',\n",
       " 'buying',\n",
       " 'stupid',\n",
       " 'maybe',\n",
       " 'cute',\n",
       " 'is',\n",
       " 'posting',\n",
       " 'has',\n",
       " 'not',\n",
       " 'garbage',\n",
       " 'how',\n",
       " 'mr',\n",
       " 'flea',\n",
       " 'quit',\n",
       " 'take',\n",
       " 'stop',\n",
       " 'to',\n",
       " 'dog',\n",
       " 'my',\n",
       " 'him',\n",
       " 'problems',\n",
       " 'steak',\n",
       " 'worthless',\n",
       " 'park']"
      ]
     },
     "execution_count": 4,
     "metadata": {},
     "output_type": "execute_result"
    }
   ],
   "source": [
    "myVocabList"
   ]
  },
  {
   "cell_type": "code",
   "execution_count": 5,
   "metadata": {},
   "outputs": [
    {
     "data": {
      "text/plain": [
       "[0,\n",
       " 0,\n",
       " 1,\n",
       " 0,\n",
       " 1,\n",
       " 0,\n",
       " 0,\n",
       " 0,\n",
       " 0,\n",
       " 0,\n",
       " 0,\n",
       " 0,\n",
       " 0,\n",
       " 0,\n",
       " 0,\n",
       " 1,\n",
       " 0,\n",
       " 0,\n",
       " 0,\n",
       " 0,\n",
       " 1,\n",
       " 0,\n",
       " 0,\n",
       " 0,\n",
       " 0,\n",
       " 1,\n",
       " 1,\n",
       " 0,\n",
       " 1,\n",
       " 0,\n",
       " 0,\n",
       " 0]"
      ]
     },
     "execution_count": 5,
     "metadata": {},
     "output_type": "execute_result"
    }
   ],
   "source": [
    "bayes.setOfWords2Vec(myVocabList, listOPosts[0])"
   ]
  },
  {
   "cell_type": "code",
   "execution_count": 6,
   "metadata": {},
   "outputs": [
    {
     "data": {
      "text/plain": [
       "[0,\n",
       " 0,\n",
       " 0,\n",
       " 0,\n",
       " 0,\n",
       " 0,\n",
       " 0,\n",
       " 0,\n",
       " 0,\n",
       " 0,\n",
       " 1,\n",
       " 0,\n",
       " 0,\n",
       " 0,\n",
       " 1,\n",
       " 0,\n",
       " 0,\n",
       " 1,\n",
       " 0,\n",
       " 0,\n",
       " 0,\n",
       " 0,\n",
       " 0,\n",
       " 1,\n",
       " 0,\n",
       " 0,\n",
       " 0,\n",
       " 0,\n",
       " 0,\n",
       " 0,\n",
       " 1,\n",
       " 0]"
      ]
     },
     "execution_count": 6,
     "metadata": {},
     "output_type": "execute_result"
    }
   ],
   "source": [
    "bayes.setOfWords2Vec(myVocabList, listOPosts[3])"
   ]
  },
  {
   "cell_type": "code",
   "execution_count": 7,
   "metadata": {},
   "outputs": [],
   "source": [
    "listOPosts, listClasses = bayes.loadDataSet()"
   ]
  },
  {
   "cell_type": "code",
   "execution_count": 8,
   "metadata": {},
   "outputs": [],
   "source": [
    "myVocabList = bayes.createVocabList(listOPosts)"
   ]
  },
  {
   "cell_type": "code",
   "execution_count": 9,
   "metadata": {},
   "outputs": [],
   "source": [
    "trainMat = []"
   ]
  },
  {
   "cell_type": "code",
   "execution_count": 10,
   "metadata": {},
   "outputs": [],
   "source": [
    "for postinDoc in listOPosts:\n",
    "    trainMat.append(bayes.setOfWords2Vec(myVocabList, postinDoc))"
   ]
  },
  {
   "cell_type": "code",
   "execution_count": 11,
   "metadata": {},
   "outputs": [],
   "source": [
    "p0V, p1V, pAb = bayes.trainNB0(trainMat, listClasses)"
   ]
  },
  {
   "cell_type": "code",
   "execution_count": 12,
   "metadata": {},
   "outputs": [
    {
     "data": {
      "text/plain": [
       "0.5"
      ]
     },
     "execution_count": 12,
     "metadata": {},
     "output_type": "execute_result"
    }
   ],
   "source": [
    "pAb"
   ]
  },
  {
   "cell_type": "code",
   "execution_count": 13,
   "metadata": {},
   "outputs": [
    {
     "data": {
      "text/plain": [
       "[-2.5649493574615367,\n",
       " -2.5649493574615367,\n",
       " -2.5649493574615367,\n",
       " -3.258096538021482,\n",
       " -2.5649493574615367,\n",
       " -2.5649493574615367,\n",
       " -2.5649493574615367,\n",
       " -2.5649493574615367,\n",
       " -2.5649493574615367,\n",
       " -3.258096538021482,\n",
       " -3.258096538021482,\n",
       " -3.258096538021482,\n",
       " -2.5649493574615367,\n",
       " -2.5649493574615367,\n",
       " -3.258096538021482,\n",
       " -2.5649493574615367,\n",
       " -3.258096538021482,\n",
       " -3.258096538021482,\n",
       " -2.5649493574615367,\n",
       " -2.5649493574615367,\n",
       " -2.5649493574615367,\n",
       " -3.258096538021482,\n",
       " -3.258096538021482,\n",
       " -2.5649493574615367,\n",
       " -2.5649493574615367,\n",
       " -2.5649493574615367,\n",
       " -1.8718021769015913,\n",
       " -2.159484249353372,\n",
       " -2.5649493574615367,\n",
       " -2.5649493574615367,\n",
       " -3.258096538021482,\n",
       " -3.258096538021482]"
      ]
     },
     "execution_count": 13,
     "metadata": {},
     "output_type": "execute_result"
    }
   ],
   "source": [
    "p0V"
   ]
  },
  {
   "cell_type": "code",
   "execution_count": 14,
   "metadata": {},
   "outputs": [
    {
     "data": {
      "text/plain": [
       "[-3.044522437723423,\n",
       " -3.044522437723423,\n",
       " -3.044522437723423,\n",
       " -2.3513752571634776,\n",
       " -3.044522437723423,\n",
       " -3.044522437723423,\n",
       " -3.044522437723423,\n",
       " -3.044522437723423,\n",
       " -3.044522437723423,\n",
       " -2.3513752571634776,\n",
       " -1.6582280766035324,\n",
       " -2.3513752571634776,\n",
       " -3.044522437723423,\n",
       " -3.044522437723423,\n",
       " -2.3513752571634776,\n",
       " -3.044522437723423,\n",
       " -2.3513752571634776,\n",
       " -2.3513752571634776,\n",
       " -3.044522437723423,\n",
       " -3.044522437723423,\n",
       " -3.044522437723423,\n",
       " -2.3513752571634776,\n",
       " -2.3513752571634776,\n",
       " -2.3513752571634776,\n",
       " -2.3513752571634776,\n",
       " -1.9459101490553135,\n",
       " -3.044522437723423,\n",
       " -2.3513752571634776,\n",
       " -3.044522437723423,\n",
       " -3.044522437723423,\n",
       " -1.9459101490553135,\n",
       " -2.3513752571634776]"
      ]
     },
     "execution_count": 14,
     "metadata": {},
     "output_type": "execute_result"
    }
   ],
   "source": [
    "p1V"
   ]
  },
  {
   "cell_type": "code",
   "execution_count": 15,
   "metadata": {},
   "outputs": [
    {
     "name": "stdout",
     "output_type": "stream",
     "text": [
      "['love', 'my', 'dalmation'] classified as:  0\n",
      "['stupid', 'garbage'] classified as:  1\n"
     ]
    }
   ],
   "source": [
    "bayes.testingNB()"
   ]
  }
 ],
 "metadata": {
  "kernelspec": {
   "display_name": "Python 3",
   "language": "python",
   "name": "python3"
  },
  "language_info": {
   "codemirror_mode": {
    "name": "ipython",
    "version": 3
   },
   "file_extension": ".py",
   "mimetype": "text/x-python",
   "name": "python",
   "nbconvert_exporter": "python",
   "pygments_lexer": "ipython3",
   "version": "3.6.4"
  }
 },
 "nbformat": 4,
 "nbformat_minor": 2
}
