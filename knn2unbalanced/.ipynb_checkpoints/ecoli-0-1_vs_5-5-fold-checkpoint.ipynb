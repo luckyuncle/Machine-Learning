{
 "cells": [
  {
   "cell_type": "code",
   "execution_count": 1,
   "metadata": {},
   "outputs": [],
   "source": [
    "import algorithmTest as at\n",
    "import createPlotter as cp\n",
    "import dataTreat as dt\n",
    "from imp import reload\n",
    "fileName = 'ecoli-0-1_vs_5-5-fold'\n",
    "file = 'ecoli-0-1_vs_5-5-fold'"
   ]
  },
  {
   "cell_type": "code",
   "execution_count": 2,
   "metadata": {},
   "outputs": [],
   "source": [
    "dataMat, labels, features, length = dt.createIR(fileName)"
   ]
  },
  {
   "cell_type": "code",
   "execution_count": 3,
   "metadata": {},
   "outputs": [
    {
     "name": "stdout",
     "output_type": "stream",
     "text": [
      "1200\n"
     ]
    },
    {
     "data": {
      "image/png": "[encoded data removed]",
      "text/plain": [
       "<matplotlib.figure.Figure at 0x1c2d5b01940>"
      ]
     },
     "metadata": {},
     "output_type": "display_data"
    }
   ],
   "source": [
    "print(length)\n",
    "cp.createIRPlotter(dataMat, labels, features, file)"
   ]
  },
  {
   "cell_type": "code",
   "execution_count": 4,
   "metadata": {},
   "outputs": [],
   "source": [
    "precisions = []\n",
    "recalls = []\n",
    "f_measures = []"
   ]
  },
  {
   "cell_type": "code",
   "execution_count": 5,
   "metadata": {},
   "outputs": [
    {
     "name": "stdout",
     "output_type": "stream",
     "text": [
      "正确率：0.96\n",
      "召回率：0.7875\n",
      "准确率：0.978125\n",
      "f-measure：0.8652360515021459\n",
      "正确率：0.96\n",
      "召回率：0.8\n",
      "准确率：0.9791666666666666\n",
      "f-measure：0.8727272727272728\n",
      "正确率：1.0\n",
      "召回率：0.7\n",
      "准确率：0.975\n",
      "f-measure：0.8235294117647058\n",
      "正确率：1.0\n",
      "召回率：0.7\n",
      "准确率：0.975\n",
      "f-measure：0.8235294117647058\n",
      "正确率：0.8\n",
      "召回率：0.5125\n",
      "准确率：0.959375\n",
      "f-measure：0.6247619047619047\n",
      "正确率：0.8\n",
      "召回率：0.5125\n",
      "准确率：0.959375\n",
      "f-measure：0.6247619047619047\n",
      "正确率：0.6\n",
      "召回率：0.5\n",
      "准确率：0.9583333333333333\n",
      "f-measure：0.5454545454545454\n",
      "正确率：0.6\n",
      "召回率：0.5\n",
      "准确率：0.9583333333333333\n",
      "f-measure：0.5454545454545454\n"
     ]
    }
   ],
   "source": [
    "kValues = []\n",
    "kNNPrecisions = []\n",
    "kNNRecalls = [] \n",
    "kNNF_measures = []\n",
    "for i in range(3, 11):\n",
    "    kValues.append(i)\n",
    "for i in kValues:\n",
    "    kNNs = at.testKNNByDir(fileName, 'KNN', i)\n",
    "    kNNPrecisions.append(kNNs[0])\n",
    "    kNNRecalls.append(kNNs[1])\n",
    "    kNNF_measures.append(kNNs[2])"
   ]
  },
  {
   "cell_type": "code",
   "execution_count": 6,
   "metadata": {},
   "outputs": [
    {
     "name": "stdout",
     "output_type": "stream",
     "text": [
      "正确率：0.8841666666666667\n",
      "召回率：0.8625\n",
      "准确率：0.978125\n",
      "f-measure：0.8731989503816795\n",
      "正确率：0.8841666666666667\n",
      "召回率：0.8625\n",
      "准确率：0.978125\n",
      "f-measure：0.8731989503816795\n",
      "正确率：0.8841666666666667\n",
      "召回率：0.8625\n",
      "准确率：0.978125\n",
      "f-measure：0.8731989503816795\n",
      "正确率：0.8833333333333334\n",
      "召回率：0.85\n",
      "准确率：0.9770833333333334\n",
      "f-measure：0.8663461538461539\n",
      "正确率：0.8966666666666667\n",
      "召回率：0.85\n",
      "准确率：0.978125\n",
      "f-measure：0.8727099236641221\n",
      "正确率：0.9099999999999999\n",
      "召回率：0.8375\n",
      "准确率：0.978125\n",
      "f-measure：0.8722460658082974\n",
      "正确率：0.8966666666666667\n",
      "召回率：0.8375\n",
      "准确率：0.9770833333333334\n",
      "f-measure：0.8660740028832292\n",
      "正确率：0.8833333333333334\n",
      "召回率：0.8375\n",
      "准确率：0.9739583333333334\n",
      "f-measure：0.8598062953995158\n"
     ]
    }
   ],
   "source": [
    "kValues = []\n",
    "kNNIPDCPrecisions = []\n",
    "kNNIPDCRecalls = [] \n",
    "kNNIPDCF_measures = []\n",
    "for i in range(3, 11):\n",
    "    kValues.append(i)\n",
    "for i in kValues:\n",
    "    kNNIPDCs = at.testKNNByDir(fileName, 'IPDC_KNN', i)\n",
    "    kNNIPDCPrecisions.append(kNNIPDCs[0])\n",
    "    kNNIPDCRecalls.append(kNNIPDCs[1])\n",
    "    kNNIPDCF_measures.append(kNNIPDCs[2])"
   ]
  },
  {
   "cell_type": "code",
   "execution_count": 7,
   "metadata": {},
   "outputs": [
    {
     "name": "stdout",
     "output_type": "stream",
     "text": [
      "正确率：0.96\n",
      "召回率：0.825\n",
      "准确率：0.98125\n",
      "f-measure：0.8873949579831932\n",
      "正确率：0.96\n",
      "召回率：0.825\n",
      "准确率：0.98125\n",
      "f-measure：0.8873949579831932\n",
      "正确率：0.96\n",
      "召回率：0.8125\n",
      "准确率：0.9802083333333332\n",
      "f-measure：0.8801128349788435\n",
      "正确率：0.96\n",
      "召回率：0.7875\n",
      "准确率：0.978125\n",
      "f-measure：0.8652360515021459\n",
      "正确率：0.96\n",
      "召回率：0.7875\n",
      "准确率：0.978125\n",
      "f-measure：0.8652360515021459\n",
      "正确率：0.96\n",
      "召回率：0.775\n",
      "准确率：0.9770833333333334\n",
      "f-measure：0.8576368876080692\n",
      "正确率：0.96\n",
      "召回率：0.7625\n",
      "准确率：0.9760416666666666\n",
      "f-measure：0.8499274310595065\n",
      "正确率：0.96\n",
      "召回率：0.7375\n",
      "准确率：0.9739583333333333\n",
      "f-measure：0.8341678939617083\n"
     ]
    }
   ],
   "source": [
    "kValues = []\n",
    "kNNIPDSPrecisions = []\n",
    "kNNIPDSRecalls = [] \n",
    "kNNIPDSF_measures = []\n",
    "for i in range(3, 11):\n",
    "    kValues.append(i)\n",
    "for i in kValues:\n",
    "    kNNIPDSs = at.testKNNByDir(fileName, 'IPDS_KNN', i)\n",
    "    kNNIPDSPrecisions.append(kNNIPDSs[0])\n",
    "    kNNIPDSRecalls.append(kNNIPDSs[1])\n",
    "    kNNIPDSF_measures.append(kNNIPDSs[2])"
   ]
  },
  {
   "cell_type": "code",
   "execution_count": 8,
   "metadata": {},
   "outputs": [
    {
     "name": "stdout",
     "output_type": "stream",
     "text": [
      "正确率：0.9466666666666667\n",
      "召回率：0.85\n",
      "准确率：0.9822916666666666\n",
      "f-measure：0.8957328385899814\n",
      "正确率：0.8966666666666667\n",
      "召回率：0.85\n",
      "准确率：0.978125\n",
      "f-measure：0.8727099236641221\n",
      "正确率：0.8833333333333334\n",
      "召回率：0.85\n",
      "准确率：0.9770833333333334\n",
      "f-measure：0.8663461538461539\n",
      "正确率：0.8966666666666667\n",
      "召回率：0.85\n",
      "准确率：0.978125\n",
      "f-measure：0.8727099236641221\n",
      "正确率：0.8966666666666667\n",
      "召回率：0.85\n",
      "准确率：0.978125\n",
      "f-measure：0.8727099236641221\n",
      "正确率：0.9099999999999999\n",
      "召回率：0.85\n",
      "准确率：0.9791666666666667\n",
      "f-measure：0.8789772727272728\n",
      "正确率：0.9099999999999999\n",
      "召回率：0.8375\n",
      "准确率：0.978125\n",
      "f-measure：0.8722460658082974\n",
      "正确率：0.9099999999999999\n",
      "召回率：0.825\n",
      "准确率：0.9770833333333334\n",
      "f-measure：0.8654178674351585\n"
     ]
    }
   ],
   "source": [
    "kValues = []\n",
    "kNNIPDCSPrecisions = []\n",
    "kNNIPDCSRecalls = [] \n",
    "kNNIPDCSF_measures = []\n",
    "for i in range(3, 11):\n",
    "    kValues.append(i)\n",
    "for i in kValues:\n",
    "    kNNIPDCSs = at.testKNNByDir(fileName, 'IPDCS_KNN', i)\n",
    "    kNNIPDCSPrecisions.append(kNNIPDCSs[0])\n",
    "    kNNIPDCSRecalls.append(kNNIPDCSs[1])\n",
    "    kNNIPDCSF_measures.append(kNNIPDCSs[2])"
   ]
  },
  {
   "cell_type": "code",
   "execution_count": 9,
   "metadata": {},
   "outputs": [
    {
     "name": "stdout",
     "output_type": "stream",
     "text": [
      "正确率：0.5848768472906404\n",
      "召回率：0.975\n",
      "准确率：0.9364583333333334\n",
      "f-measure：0.7311537793497656\n",
      "正确率：0.6074043198181129\n",
      "召回率：0.975\n",
      "准确率：0.9427083333333334\n",
      "f-measure：0.7485055550034544\n",
      "正确率：0.5214285714285715\n",
      "召回率：0.975\n",
      "准确率：0.921875\n",
      "f-measure：0.6794749403341289\n",
      "正确率：0.5196581196581196\n",
      "召回率：0.975\n",
      "准确率：0.9208333333333334\n",
      "f-measure：0.6779699785561114\n",
      "正确率：0.5645382395382395\n",
      "召回率：0.975\n",
      "准确率：0.93125\n",
      "f-measure：0.7150517855469115\n",
      "正确率：0.5717460317460318\n",
      "召回率：0.9625\n",
      "准确率：0.9302083333333334\n",
      "f-measure：0.7173628533740268\n",
      "正确率：0.6130430242272348\n",
      "召回率：0.9375\n",
      "准确率：0.9364583333333334\n",
      "f-measure：0.7413245891702587\n",
      "正确率：0.6670634920634921\n",
      "召回率：0.9375\n",
      "准确率：0.9385416666666666\n",
      "f-measure：0.7794917769259305\n"
     ]
    }
   ],
   "source": [
    "kValues = []\n",
    "kNNIPNCPrecisions = []\n",
    "kNNIPNCRecalls = [] \n",
    "kNNIPNCF_measures = []\n",
    "for i in range(3, 11):\n",
    "    kValues.append(i)\n",
    "for i in kValues:\n",
    "    kNNIPNCs = at.testKNNByDir(fileName, 'IPNC_KNN', i)\n",
    "    kNNIPNCPrecisions.append(kNNIPNCs[0])\n",
    "    kNNIPNCRecalls.append(kNNIPNCs[1])\n",
    "    kNNIPNCF_measures.append(kNNIPNCs[2])"
   ]
  },
  {
   "cell_type": "code",
   "execution_count": 10,
   "metadata": {},
   "outputs": [
    {
     "data": {
      "image/png": "[encoded data removed]",
      "text/plain": [
       "<matplotlib.figure.Figure at 0x1c2d5ee82e8>"
      ]
     },
     "metadata": {},
     "output_type": "display_data"
    }
   ],
   "source": [
    "cp.createKNNPlotter(kValues, kNNPrecisions, kNNIPDCPrecisions, kNNIPDSPrecisions, kNNIPDCSPrecisions, 'precision')"
   ]
  },
  {
   "cell_type": "code",
   "execution_count": 11,
   "metadata": {},
   "outputs": [
    {
     "data": {
      "image/png": "[encoded data removed]",
      "text/plain": [
       "<matplotlib.figure.Figure at 0x1c2d5f23e10>"
      ]
     },
     "metadata": {},
     "output_type": "display_data"
    }
   ],
   "source": [
    "cp.createKNNPlotter(kValues, kNNRecalls, kNNIPDCRecalls, kNNIPDSRecalls, kNNIPDCSRecalls, 'recall')"
   ]
  },
  {
   "cell_type": "code",
   "execution_count": 12,
   "metadata": {},
   "outputs": [
    {
     "data": {
      "image/png": "[encoded data removed]",
      "text/plain": [
       "<matplotlib.figure.Figure at 0x1c2d5f89320>"
      ]
     },
     "metadata": {},
     "output_type": "display_data"
    }
   ],
   "source": [
    "cp.createKNNPlotter(kValues, kNNF_measures, kNNIPDCF_measures, kNNIPDSF_measures, kNNIPDCSF_measures, 'F-measure')"
   ]
  },
  {
   "cell_type": "code",
   "execution_count": 13,
   "metadata": {},
   "outputs": [],
   "source": [
    "precisions.append(kNNIPDCPrecisions[3])\n",
    "recalls.append(kNNIPDCRecalls[3])\n",
    "f_measures.append(kNNIPDCF_measures[3])\n",
    "precisions.append(kNNIPDSPrecisions[3])\n",
    "recalls.append(kNNIPDSRecalls[3])\n",
    "f_measures.append(kNNIPDSF_measures[3])\n",
    "precisions.append(kNNIPDCSPrecisions[3])\n",
    "recalls.append(kNNIPDCSRecalls[3])\n",
    "f_measures.append(kNNIPDCSF_measures[3])\n",
    "precisions.append(kNNPrecisions[3])\n",
    "recalls.append(kNNRecalls[3])\n",
    "f_measures.append(kNNF_measures[3])"
   ]
  },
  {
   "cell_type": "code",
   "execution_count": 14,
   "metadata": {},
   "outputs": [
    {
     "name": "stdout",
     "output_type": "stream",
     "text": [
      "正确率：0.7221428571428572\n",
      "召回率：0.7625\n",
      "准确率：0.9541666666666668\n",
      "f-measure：0.7417729131585278\n"
     ]
    }
   ],
   "source": [
    "SVMs = at.testOthersByDir(fileName, 'SVM', 0)\n",
    "precisions.append(SVMs[0])\n",
    "recalls.append(SVMs[1])\n",
    "f_measures.append(SVMs[2])"
   ]
  },
  {
   "cell_type": "code",
   "execution_count": 15,
   "metadata": {},
   "outputs": [
    {
     "name": "stdout",
     "output_type": "stream",
     "text": [
      "正确率：0.9333333333333332\n",
      "召回率：0.6875\n",
      "准确率：0.96875\n",
      "f-measure：0.7917737789203085\n"
     ]
    }
   ],
   "source": [
    "RFs = at.testOthersByDir(fileName, 'RF')\n",
    "precisions.append(RFs[0])\n",
    "recalls.append(RFs[1])\n",
    "f_measures.append(RFs[2])"
   ]
  },
  {
   "cell_type": "code",
   "execution_count": 16,
   "metadata": {},
   "outputs": [
    {
     "name": "stdout",
     "output_type": "stream",
     "text": [
      "正确率：0.38106060606060604\n",
      "召回率：0.8625\n",
      "准确率：0.8604166666666666\n",
      "f-measure：0.5285866585440147\n"
     ]
    }
   ],
   "source": [
    "bayes = at.testOthersByDir(fileName, 'Bayes', 0)\n",
    "precisions.append(bayes[0])\n",
    "recalls.append(bayes[1])\n",
    "f_measures.append(bayes[2])"
   ]
  },
  {
   "cell_type": "code",
   "execution_count": 17,
   "metadata": {},
   "outputs": [
    {
     "name": "stdout",
     "output_type": "stream",
     "text": [
      "正确率：0.5442105263157895\n",
      "召回率：0.675\n",
      "准确率：0.9291666666666666\n",
      "f-measure：0.6025901143967192\n"
     ]
    }
   ],
   "source": [
    "trees = at.testOthersByDir(fileName, 'Tree')\n",
    "precisions.append(trees[0])\n",
    "recalls.append(trees[1])\n",
    "f_measures.append(trees[2])"
   ]
  },
  {
   "cell_type": "code",
   "execution_count": 18,
   "metadata": {},
   "outputs": [
    {
     "data": {
      "image/png": "[encoded data removed]",
      "text/plain": [
       "<matplotlib.figure.Figure at 0x1c2d5e71c88>"
      ]
     },
     "metadata": {},
     "output_type": "display_data"
    }
   ],
   "source": [
    "cp.createClassPlotter(precisions, recalls, f_measures)"
   ]
  }
 ],
 "metadata": {
  "kernelspec": {
   "display_name": "Python 3",
   "language": "python",
   "name": "python3"
  },
  "language_info": {
   "codemirror_mode": {
    "name": "ipython",
    "version": 3
   },
   "file_extension": ".py",
   "mimetype": "text/x-python",
   "name": "python",
   "nbconvert_exporter": "python",
   "pygments_lexer": "ipython3",
   "version": "3.6.4"
  }
 },
 "nbformat": 4,
 "nbformat_minor": 2
}
