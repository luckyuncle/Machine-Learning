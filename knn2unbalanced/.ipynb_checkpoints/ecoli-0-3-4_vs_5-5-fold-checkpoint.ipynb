{
 "cells": [
  {
   "cell_type": "code",
   "execution_count": 1,
   "metadata": {},
   "outputs": [],
   "source": [
    "import algorithmTest as at\n",
    "import createPlotter as cp\n",
    "import dataTreat as dt\n",
    "from imp import reload\n",
    "fileName = 'ecoli-0-3-4_vs_5-5-fold'\n",
    "file = 'ecoli-0-3-4_vs_5-5-fold'"
   ]
  },
  {
   "cell_type": "code",
   "execution_count": 2,
   "metadata": {},
   "outputs": [],
   "source": [
    "dataMat, labels, features, length = dt.createIR(fileName)"
   ]
  },
  {
   "cell_type": "code",
   "execution_count": 4,
   "metadata": {},
   "outputs": [
    {
     "name": "stdout",
     "output_type": "stream",
     "text": [
      "1000\n"
     ]
    },
    {
     "data": {
      "image/png": "[encoded data removed]",
      "text/plain": [
       "<matplotlib.figure.Figure at 0x1fcfb81fe48>"
      ]
     },
     "metadata": {},
     "output_type": "display_data"
    }
   ],
   "source": [
    "print(length)\n",
    "cp.createIRPlotter(dataMat, labels, features, file)"
   ]
  },
  {
   "cell_type": "code",
   "execution_count": 4,
   "metadata": {},
   "outputs": [],
   "source": [
    "precisions = []\n",
    "recalls = []\n",
    "f_measures = []"
   ]
  },
  {
   "cell_type": "code",
   "execution_count": 5,
   "metadata": {},
   "outputs": [
    {
     "name": "stdout",
     "output_type": "stream",
     "text": [
      "正确率：0.8708333333333332\n",
      "召回率：0.8\n",
      "准确率：0.96875\n",
      "f-measure：0.8339152119700748\n",
      "正确率：0.8708333333333332\n",
      "召回率：0.8125\n",
      "准确率：0.97\n",
      "f-measure：0.8406559405940595\n",
      "正确率：0.76\n",
      "召回率：0.65\n",
      "准确率：0.9550000000000001\n",
      "f-measure：0.700709219858156\n",
      "正确率：0.7333333333333333\n",
      "召回率：0.6625\n",
      "准确率：0.96125\n",
      "f-measure：0.6961194029850746\n",
      "正确率：0.76\n",
      "召回率：0.6125\n",
      "准确率：0.95625\n",
      "f-measure：0.6783242258652095\n",
      "正确率：0.8\n",
      "召回率：0.6125\n",
      "准确率：0.96125\n",
      "f-measure：0.6938053097345133\n",
      "正确率：0.5599999999999999\n",
      "召回率：0.5\n",
      "准确率：0.945\n",
      "f-measure：0.5283018867924527\n",
      "正确率：0.5599999999999999\n",
      "召回率：0.5\n",
      "准确率：0.945\n",
      "f-measure：0.5283018867924527\n"
     ]
    }
   ],
   "source": [
    "kValues = []\n",
    "kNNPrecisions = []\n",
    "kNNRecalls = [] \n",
    "kNNF_measures = []\n",
    "for i in range(3, 11):\n",
    "    kValues.append(i)\n",
    "for i in kValues:\n",
    "    kNNs = at.testKNNByDir(fileName, 'KNN', i)\n",
    "    kNNPrecisions.append(kNNs[0])\n",
    "    kNNRecalls.append(kNNs[1])\n",
    "    kNNF_measures.append(kNNs[2])"
   ]
  },
  {
   "cell_type": "code",
   "execution_count": 6,
   "metadata": {},
   "outputs": [
    {
     "name": "stdout",
     "output_type": "stream",
     "text": [
      "正确率：0.9083333333333332\n",
      "召回率：0.8625\n",
      "准确率：0.9787500000000001\n",
      "f-measure：0.8848235294117647\n",
      "正确率：0.888888888888889\n",
      "召回率：0.8625\n",
      "准确率：0.97625\n",
      "f-measure：0.8754956383822363\n",
      "正确率：0.8922619047619047\n",
      "召回率：0.8375\n",
      "准确率：0.975\n",
      "f-measure：0.8640141087405367\n",
      "正确率：0.9054487179487178\n",
      "召回率：0.8375\n",
      "准确率：0.97625\n",
      "f-measure：0.8701498712762044\n",
      "正确率：0.9208333333333332\n",
      "召回率：0.8375\n",
      "准确率：0.9775\n",
      "f-measure：0.877191943127962\n",
      "正确率：0.8933333333333333\n",
      "召回率：0.8375\n",
      "准确率：0.9737500000000001\n",
      "f-measure：0.8645161290322579\n",
      "正确率：0.8933333333333333\n",
      "召回率：0.825\n",
      "准确率：0.9724999999999999\n",
      "f-measure：0.857807953443259\n",
      "正确率：0.8666666666666666\n",
      "召回率：0.8125\n",
      "准确率：0.9662499999999999\n",
      "f-measure：0.8387096774193548\n"
     ]
    }
   ],
   "source": [
    "kValues = []\n",
    "kNNIPDCPrecisions = []\n",
    "kNNIPDCRecalls = [] \n",
    "kNNIPDCF_measures = []\n",
    "for i in range(3, 11):\n",
    "    kValues.append(i)\n",
    "for i in kValues:\n",
    "    kNNIPDCs = at.testKNNByDir(fileName, 'IPDC_KNN', i)\n",
    "    kNNIPDCPrecisions.append(kNNIPDCs[0])\n",
    "    kNNIPDCRecalls.append(kNNIPDCs[1])\n",
    "    kNNIPDCF_measures.append(kNNIPDCs[2])"
   ]
  },
  {
   "cell_type": "code",
   "execution_count": 7,
   "metadata": {},
   "outputs": [
    {
     "name": "stdout",
     "output_type": "stream",
     "text": [
      "正确率：0.9333333333333332\n",
      "召回率：0.825\n",
      "准确率：0.9775\n",
      "f-measure：0.8758293838862559\n",
      "正确率：0.919047619047619\n",
      "召回率：0.8375\n",
      "准确率：0.9775\n",
      "f-measure：0.8763808878346324\n",
      "正确率：0.9333333333333332\n",
      "召回率：0.8125\n",
      "准确率：0.97625\n",
      "f-measure：0.8687350835322196\n",
      "正确率：0.9333333333333332\n",
      "召回率：0.8125\n",
      "准确率：0.97625\n",
      "f-measure：0.8687350835322196\n",
      "正确率：0.9333333333333332\n",
      "召回率：0.8\n",
      "准确率：0.975\n",
      "f-measure：0.8615384615384615\n",
      "正确率：0.9333333333333332\n",
      "召回率：0.7625\n",
      "准确率：0.9712499999999998\n",
      "f-measure：0.8393120393120392\n",
      "正确率：0.9333333333333332\n",
      "召回率：0.75\n",
      "准确率：0.97\n",
      "f-measure：0.8316831683168318\n",
      "正确率：0.9333333333333332\n",
      "召回率：0.725\n",
      "准确率：0.9675\n",
      "f-measure：0.8160804020100502\n"
     ]
    }
   ],
   "source": [
    "kValues = []\n",
    "kNNIPDSPrecisions = []\n",
    "kNNIPDSRecalls = [] \n",
    "kNNIPDSF_measures = []\n",
    "for i in range(3, 11):\n",
    "    kValues.append(i)\n",
    "for i in kValues:\n",
    "    kNNIPDSs = at.testKNNByDir(fileName, 'IPDS_KNN', i)\n",
    "    kNNIPDSPrecisions.append(kNNIPDSs[0])\n",
    "    kNNIPDSRecalls.append(kNNIPDSs[1])\n",
    "    kNNIPDSF_measures.append(kNNIPDSs[2])"
   ]
  },
  {
   "cell_type": "code",
   "execution_count": 8,
   "metadata": {},
   "outputs": [
    {
     "name": "stdout",
     "output_type": "stream",
     "text": [
      "正确率：0.9333333333333332\n",
      "召回率：0.85\n",
      "准确率：0.9800000000000001\n",
      "f-measure：0.8897196261682242\n",
      "正确率：0.9199999999999999\n",
      "召回率：0.85\n",
      "准确率：0.97875\n",
      "f-measure：0.8836158192090394\n",
      "正确率：0.9179487179487179\n",
      "召回率：0.8375\n",
      "准确率：0.9775\n",
      "f-measure：0.8758809567281358\n",
      "正确率：0.9333333333333332\n",
      "召回率：0.8375\n",
      "准确率：0.9787500000000001\n",
      "f-measure：0.8828235294117647\n",
      "正确率：0.9333333333333332\n",
      "召回率：0.8375\n",
      "准确率：0.9787500000000001\n",
      "f-measure：0.8828235294117647\n",
      "正确率：0.9333333333333332\n",
      "召回率：0.8375\n",
      "准确率：0.9787500000000001\n",
      "f-measure：0.8828235294117647\n",
      "正确率：0.9333333333333332\n",
      "召回率：0.825\n",
      "准确率：0.9775\n",
      "f-measure：0.8758293838862559\n",
      "正确率：0.9333333333333332\n",
      "召回率：0.825\n",
      "准确率：0.9775\n",
      "f-measure：0.8758293838862559\n"
     ]
    }
   ],
   "source": [
    "kValues = []\n",
    "kNNIPDCSPrecisions = []\n",
    "kNNIPDCSRecalls = [] \n",
    "kNNIPDCSF_measures = []\n",
    "for i in range(3, 11):\n",
    "    kValues.append(i)\n",
    "for i in kValues:\n",
    "    kNNIPDCSs = at.testKNNByDir(fileName, 'IPDCS_KNN', i)\n",
    "    kNNIPDCSPrecisions.append(kNNIPDCSs[0])\n",
    "    kNNIPDCSRecalls.append(kNNIPDCSs[1])\n",
    "    kNNIPDCSF_measures.append(kNNIPDCSs[2])"
   ]
  },
  {
   "cell_type": "code",
   "execution_count": 9,
   "metadata": {},
   "outputs": [
    {
     "name": "stdout",
     "output_type": "stream",
     "text": [
      "正确率：0.8198039215686274\n",
      "召回率：0.9125\n",
      "准确率：0.97\n",
      "f-measure：0.8636718639463482\n",
      "正确率：0.7684057971014493\n",
      "召回率：0.9125\n",
      "准确率：0.96125\n",
      "f-measure：0.834276722781454\n",
      "正确率：0.7866666666666667\n",
      "召回率：0.9125\n",
      "准确率：0.9650000000000001\n",
      "f-measure：0.8449239823442866\n",
      "正确率：0.8094117647058823\n",
      "召回率：0.9\n",
      "准确率：0.9674999999999999\n",
      "f-measure：0.8523055746730901\n",
      "正确率：0.8200000000000001\n",
      "召回率：0.9\n",
      "准确率：0.96875\n",
      "f-measure：0.858139534883721\n",
      "正确率：0.7989285714285714\n",
      "召回率：0.8875\n",
      "准确率：0.9650000000000001\n",
      "f-measure：0.840888394747988\n",
      "正确率：0.7979487179487179\n",
      "召回率：0.8875\n",
      "准确率：0.9625\n",
      "f-measure：0.8403453390636291\n",
      "正确率：0.8133333333333332\n",
      "召回率：0.8625\n",
      "准确率：0.9612499999999999\n",
      "f-measure：0.8371954251616112\n"
     ]
    }
   ],
   "source": [
    "kValues = []\n",
    "kNNIPNCPrecisions = []\n",
    "kNNIPNCRecalls = [] \n",
    "kNNIPNCF_measures = []\n",
    "for i in range(3, 11):\n",
    "    kValues.append(i)\n",
    "for i in kValues:\n",
    "    kNNIPNCs = at.testKNNByDir(fileName, 'IPNC_KNN', i)\n",
    "    kNNIPNCPrecisions.append(kNNIPNCs[0])\n",
    "    kNNIPNCRecalls.append(kNNIPNCs[1])\n",
    "    kNNIPNCF_measures.append(kNNIPNCs[2])"
   ]
  },
  {
   "cell_type": "code",
   "execution_count": 10,
   "metadata": {},
   "outputs": [
    {
     "data": {
      "image/png": "[encoded data removed]",
      "text/plain": [
       "<matplotlib.figure.Figure at 0x26d2c34add8>"
      ]
     },
     "metadata": {},
     "output_type": "display_data"
    }
   ],
   "source": [
    "cp.createKNNPlotter(kValues, kNNPrecisions, kNNIPDCPrecisions, kNNIPDSPrecisions, kNNIPDCSPrecisions, 'precision')"
   ]
  },
  {
   "cell_type": "code",
   "execution_count": 11,
   "metadata": {},
   "outputs": [
    {
     "data": {
      "image/png": "[encoded data removed]",
      "text/plain": [
       "<matplotlib.figure.Figure at 0x26d2c34aba8>"
      ]
     },
     "metadata": {},
     "output_type": "display_data"
    }
   ],
   "source": [
    "cp.createKNNPlotter(kValues, kNNRecalls, kNNIPDCRecalls, kNNIPDSRecalls, kNNIPDCSRecalls, 'recall')"
   ]
  },
  {
   "cell_type": "code",
   "execution_count": 12,
   "metadata": {},
   "outputs": [
    {
     "data": {
      "image/png": "[encoded data removed]",
      "text/plain": [
       "<matplotlib.figure.Figure at 0x26d2c3e1518>"
      ]
     },
     "metadata": {},
     "output_type": "display_data"
    }
   ],
   "source": [
    "cp.createKNNPlotter(kValues, kNNF_measures, kNNIPDCF_measures, kNNIPDSF_measures, kNNIPDCSF_measures, 'F-measure')"
   ]
  },
  {
   "cell_type": "code",
   "execution_count": 13,
   "metadata": {},
   "outputs": [],
   "source": [
    "precisions.append(kNNIPDCPrecisions[3])\n",
    "recalls.append(kNNIPDCRecalls[3])\n",
    "f_measures.append(kNNIPDCF_measures[3])\n",
    "precisions.append(kNNIPDSPrecisions[3])\n",
    "recalls.append(kNNIPDSRecalls[3])\n",
    "f_measures.append(kNNIPDSF_measures[3])\n",
    "precisions.append(kNNIPDCSPrecisions[3])\n",
    "recalls.append(kNNIPDCSRecalls[3])\n",
    "f_measures.append(kNNIPDCSF_measures[3])\n",
    "precisions.append(kNNPrecisions[3])\n",
    "recalls.append(kNNRecalls[3])\n",
    "f_measures.append(kNNF_measures[3])"
   ]
  },
  {
   "cell_type": "code",
   "execution_count": 14,
   "metadata": {},
   "outputs": [
    {
     "name": "stdout",
     "output_type": "stream",
     "text": [
      "正确率：0.8123809523809523\n",
      "召回率：0.8375\n",
      "准确率：0.9637499999999999\n",
      "f-measure：0.8247492604083989\n"
     ]
    }
   ],
   "source": [
    "SVMs = at.testOthersByDir(fileName, 'SVM', 0)\n",
    "precisions.append(SVMs[0])\n",
    "recalls.append(SVMs[1])\n",
    "f_measures.append(SVMs[2])"
   ]
  },
  {
   "cell_type": "code",
   "execution_count": 15,
   "metadata": {},
   "outputs": [
    {
     "name": "stdout",
     "output_type": "stream",
     "text": [
      "正确率：0.9473684210526315\n",
      "召回率：0.7125\n",
      "准确率：0.9650000000000001\n",
      "f-measure：0.8133174791914387\n"
     ]
    }
   ],
   "source": [
    "RFs = at.testOthersByDir(fileName, 'RF')\n",
    "precisions.append(RFs[0])\n",
    "recalls.append(RFs[1])\n",
    "f_measures.append(RFs[2])"
   ]
  },
  {
   "cell_type": "code",
   "execution_count": 16,
   "metadata": {},
   "outputs": [
    {
     "name": "stdout",
     "output_type": "stream",
     "text": [
      "正确率：0.45853679653679646\n",
      "召回率：0.8375\n",
      "准确率：0.88125\n",
      "f-measure：0.5926136790648814\n"
     ]
    }
   ],
   "source": [
    "bayes = at.testOthersByDir(fileName, 'Bayes', 0)\n",
    "precisions.append(bayes[0])\n",
    "recalls.append(bayes[1])\n",
    "f_measures.append(bayes[2])"
   ]
  },
  {
   "cell_type": "code",
   "execution_count": 17,
   "metadata": {},
   "outputs": [
    {
     "name": "stdout",
     "output_type": "stream",
     "text": [
      "正确率：0.6653171390013495\n",
      "召回率：0.775\n",
      "准确率：0.9349999999999999\n",
      "f-measure：0.7159822913494648\n"
     ]
    }
   ],
   "source": [
    "trees = at.testOthersByDir(fileName, 'Tree')\n",
    "precisions.append(trees[0])\n",
    "recalls.append(trees[1])\n",
    "f_measures.append(trees[2])"
   ]
  },
  {
   "cell_type": "code",
   "execution_count": 18,
   "metadata": {},
   "outputs": [
    {
     "data": {
      "image/png": "[encoded data removed]",
      "text/plain": [
       "<matplotlib.figure.Figure at 0x26d2c3b0550>"
      ]
     },
     "metadata": {},
     "output_type": "display_data"
    }
   ],
   "source": [
    "cp.createClassPlotter(precisions, recalls, f_measures)"
   ]
  }
 ],
 "metadata": {
  "kernelspec": {
   "display_name": "Python 3",
   "language": "python",
   "name": "python3"
  },
  "language_info": {
   "codemirror_mode": {
    "name": "ipython",
    "version": 3
   },
   "file_extension": ".py",
   "mimetype": "text/x-python",
   "name": "python",
   "nbconvert_exporter": "python",
   "pygments_lexer": "ipython3",
   "version": "3.6.4"
  }
 },
 "nbformat": 4,
 "nbformat_minor": 2
}
