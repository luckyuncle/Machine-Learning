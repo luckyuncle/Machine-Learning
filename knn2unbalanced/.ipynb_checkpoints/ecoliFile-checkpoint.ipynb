{
 "cells": [
  {
   "cell_type": "code",
   "execution_count": 1,
   "metadata": {},
   "outputs": [],
   "source": [
    "import algorithmTest as at\n",
    "import createPlotter as cp\n",
    "import dataTreat as dt\n",
    "from imp import reload\n",
    "fileName = 'ecoli3-5-fold'\n",
    "file = 'ecoli'"
   ]
  },
  {
   "cell_type": "code",
   "execution_count": 2,
   "metadata": {},
   "outputs": [],
   "source": [
    "dataMat, labels, features, length = dt.createIR(fileName)"
   ]
  },
  {
   "cell_type": "code",
   "execution_count": 3,
   "metadata": {},
   "outputs": [
    {
     "name": "stdout",
     "output_type": "stream",
     "text": [
      "1680\n"
     ]
    },
    {
     "data": {
      "image/png": "[encoded data removed]",
      "text/plain": [
       "<matplotlib.figure.Figure at 0x1d1dde70908>"
      ]
     },
     "metadata": {},
     "output_type": "display_data"
    }
   ],
   "source": [
    "print(length)\n",
    "cp.createIRPlotter(dataMat, labels, features, file)"
   ]
  },
  {
   "cell_type": "code",
   "execution_count": 4,
   "metadata": {},
   "outputs": [],
   "source": [
    "precisions = []\n",
    "recalls = []\n",
    "f_measures = []"
   ]
  },
  {
   "cell_type": "code",
   "execution_count": 5,
   "metadata": {},
   "outputs": [
    {
     "name": "stdout",
     "output_type": "stream",
     "text": [
      "正确率：0.6720051085568327\n",
      "召回率：0.5928571428571429\n",
      "准确率：0.9241505135594714\n",
      "f-measure：0.6299548084371047\n",
      "正确率：0.7247252747252748\n",
      "召回率：0.6428571428571429\n",
      "准确率：0.9301206628132027\n",
      "f-measure：0.6813407564713311\n",
      "正确率：0.7452380952380953\n",
      "召回率：0.6214285714285716\n",
      "准确率：0.9300767646569253\n",
      "f-measure：0.677725236436038\n",
      "正确率：0.7507515473032714\n",
      "召回率：0.6214285714285714\n",
      "准确率：0.9308202590807172\n",
      "f-measure：0.6799959497585965\n",
      "正确率：0.7359829825347066\n",
      "召回率：0.65\n",
      "准确率：0.929289372076856\n",
      "f-measure：0.6903244046657403\n",
      "正确率：0.763205759757484\n",
      "召回率：0.6571428571428573\n",
      "准确率：0.935248424398889\n",
      "f-measure：0.7062142456961443\n",
      "正确率：0.6768304159608507\n",
      "召回率：0.6214285714285714\n",
      "准确率：0.9255608030261986\n",
      "f-measure：0.6479473858073816\n",
      "正确率：0.6885879917184266\n",
      "召回率：0.6142857142857143\n",
      "准确率：0.9285458776530643\n",
      "f-measure：0.6493181409556742\n"
     ]
    }
   ],
   "source": [
    "kValues = []\n",
    "kNNPrecisions = []\n",
    "kNNRecalls = [] \n",
    "kNNF_measures = []\n",
    "for i in range(3, 11):\n",
    "    kValues.append(i)\n",
    "for i in kValues:\n",
    "    kNNs = at.testKNNByDir(fileName, 'KNN', i)\n",
    "    kNNPrecisions.append(kNNs[0])\n",
    "    kNNRecalls.append(kNNs[1])\n",
    "    kNNF_measures.append(kNNs[2])"
   ]
  },
  {
   "cell_type": "code",
   "execution_count": 6,
   "metadata": {},
   "outputs": [
    {
     "name": "stdout",
     "output_type": "stream",
     "text": [
      "正确率：0.5048717948717949\n",
      "召回率：0.9142857142857143\n",
      "准确率：0.8937429624238309\n",
      "f-measure：0.6505226750638824\n",
      "正确率：0.5133883634754716\n",
      "召回率：0.9071428571428573\n",
      "准确率：0.8960395377148807\n",
      "f-measure：0.6556935604193449\n",
      "正确率：0.5061726867887184\n",
      "召回率：0.9142857142857143\n",
      "准确率：0.8945414519355985\n",
      "f-measure：0.6516015620626292\n",
      "正确率：0.5035299806576402\n",
      "召回率：0.9142857142857143\n",
      "准确率：0.8937979575118067\n",
      "f-measure：0.6494077751738183\n",
      "正确率：0.5191865463142059\n",
      "召回率：0.9214285714285715\n",
      "准确率：0.8982700209862561\n",
      "f-measure：0.6641514611130854\n",
      "正确率：0.5219349606905272\n",
      "召回率：0.9214285714285715\n",
      "准确率：0.8990135154100478\n",
      "f-measure：0.6663959210631029\n",
      "正确率：0.5032831737346102\n",
      "召回率：0.9214285714285715\n",
      "准确率：0.8922998717325248\n",
      "f-measure：0.6509941360035665\n",
      "正确率：0.5108238495794162\n",
      "召回率：0.9214285714285715\n",
      "准确率：0.8960284407831823\n",
      "f-measure：0.6572691839310634\n"
     ]
    }
   ],
   "source": [
    "kValues = []\n",
    "kNNIPDCPrecisions = []\n",
    "kNNIPDCRecalls = [] \n",
    "kNNIPDCF_measures = []\n",
    "for i in range(3, 11):\n",
    "    kValues.append(i)\n",
    "for i in kValues:\n",
    "    kNNIPDCs = at.testKNNByDir(fileName, 'IPDC_KNN', i)\n",
    "    kNNIPDCPrecisions.append(kNNIPDCs[0])\n",
    "    kNNIPDCRecalls.append(kNNIPDCs[1])\n",
    "    kNNIPDCF_measures.append(kNNIPDCs[2])"
   ]
  },
  {
   "cell_type": "code",
   "execution_count": 7,
   "metadata": {},
   "outputs": [
    {
     "name": "stdout",
     "output_type": "stream",
     "text": [
      "正确率：0.7527350427350428\n",
      "召回率：0.6357142857142857\n",
      "准确率：0.9315965547290881\n",
      "f-measure：0.6892933148073236\n",
      "正确率：0.7321817615935263\n",
      "召回率：0.6857142857142857\n",
      "准确率：0.9338381349321618\n",
      "f-measure：0.7081866045362325\n",
      "正确率：0.7559912854030502\n",
      "召回率：0.6571428571428573\n",
      "准确率：0.9337942367758846\n",
      "f-measure：0.7031098581622766\n",
      "正确率：0.7576719576719577\n",
      "召回率：0.6642857142857144\n",
      "准确率：0.9345377311996763\n",
      "f-measure：0.707912292358804\n",
      "正确率：0.7516622810740458\n",
      "召回率：0.6857142857142857\n",
      "准确率：0.9337503386196071\n",
      "f-measure：0.7171754098047177\n",
      "正确率：0.765031265031265\n",
      "召回率：0.6857142857142857\n",
      "准确率：0.9374789076702645\n",
      "f-measure：0.7232045167126895\n",
      "正确率：0.7489448051948051\n",
      "召回率：0.6785714285714286\n",
      "准确率：0.933006844195815\n",
      "f-measure：0.7120234913775596\n",
      "正确率：0.7662433862433862\n",
      "召回率：0.6714285714285715\n",
      "准确率：0.9367354132464728\n",
      "f-measure：0.7157094488023384\n"
     ]
    }
   ],
   "source": [
    "kValues = []\n",
    "kNNIPDSPrecisions = []\n",
    "kNNIPDSRecalls = [] \n",
    "kNNIPDSF_measures = []\n",
    "for i in range(3, 11):\n",
    "    kValues.append(i)\n",
    "for i in kValues:\n",
    "    kNNIPDSs = at.testKNNByDir(fileName, 'IPDS_KNN', i)\n",
    "    kNNIPDSPrecisions.append(kNNIPDSs[0])\n",
    "    kNNIPDSRecalls.append(kNNIPDSs[1])\n",
    "    kNNIPDSF_measures.append(kNNIPDSs[2])"
   ]
  },
  {
   "cell_type": "code",
   "execution_count": 8,
   "metadata": {},
   "outputs": [
    {
     "name": "stdout",
     "output_type": "stream",
     "text": [
      "正确率：0.5840470313999726\n",
      "召回率：0.9\n",
      "准确率：0.918268160618295\n",
      "f-measure：0.7083903907871596\n",
      "正确率：0.56390522875817\n",
      "召回率：0.8928571428571429\n",
      "准确率：0.910843823741559\n",
      "f-measure：0.6912408244495472\n",
      "正确率：0.5694850948509484\n",
      "召回率：0.8928571428571429\n",
      "准确率：0.9138288983684246\n",
      "f-measure：0.695417011937319\n",
      "正确率：0.5853347680535629\n",
      "召回率：0.9\n",
      "准确率：0.9175574674190822\n",
      "f-measure：0.7093367806081134\n",
      "正确率：0.5746825396825397\n",
      "召回率：0.9\n",
      "准确率：0.9153269841477065\n",
      "f-measure：0.7014584790915452\n",
      "正确率：0.5924542124542125\n",
      "召回率：0.9\n",
      "准确率：0.9204986438896704\n",
      "f-measure：0.7145395641075988\n",
      "正确率：0.5981358885017423\n",
      "召回率：0.9\n",
      "准确率：0.9226963259364668\n",
      "f-measure：0.7186561696882305\n",
      "正确率：0.5963197586726998\n",
      "召回率：0.9\n",
      "准确率：0.9212421383134621\n",
      "f-measure：0.7173437090498558\n"
     ]
    }
   ],
   "source": [
    "kValues = []\n",
    "kNNIPDCSPrecisions = []\n",
    "kNNIPDCSRecalls = [] \n",
    "kNNIPDCSF_measures = []\n",
    "for i in range(3, 11):\n",
    "    kValues.append(i)\n",
    "for i in kValues:\n",
    "    kNNIPDCSs = at.testKNNByDir(fileName, 'IPDCS_KNN', i)\n",
    "    kNNIPDCSPrecisions.append(kNNIPDCSs[0])\n",
    "    kNNIPDCSRecalls.append(kNNIPDCSs[1])\n",
    "    kNNIPDCSF_measures.append(kNNIPDCSs[2])"
   ]
  },
  {
   "cell_type": "code",
   "execution_count": 9,
   "metadata": {},
   "outputs": [
    {
     "name": "stdout",
     "output_type": "stream",
     "text": [
      "正确率：0.5104065040650407\n",
      "召回率：0.9071428571428573\n",
      "准确率：0.8967830321386725\n",
      "f-measure：0.6532564255925802\n",
      "正确率：0.5144683257918552\n",
      "召回率：0.8928571428571429\n",
      "准确率：0.894585350091876\n",
      "f-measure：0.6527938699183445\n",
      "正确率：0.5053231292517006\n",
      "召回率：0.9071428571428573\n",
      "准确率：0.8952960432910888\n",
      "f-measure：0.6490779553847715\n",
      "正确率：0.49498126523336605\n",
      "召回率：0.9071428571428573\n",
      "准确率：0.890867877972917\n",
      "f-measure：0.6404835520767108\n",
      "正确率：0.5082575757575758\n",
      "召回率：0.9071428571428573\n",
      "准确率：0.8974937253378853\n",
      "f-measure：0.6514936956638095\n",
      "正确率：0.504897504456328\n",
      "召回率：0.9357142857142857\n",
      "准确率：0.8953071402227872\n",
      "f-measure：0.6558877429225074\n",
      "正确率：0.5224242424242425\n",
      "召回率：0.9357142857142857\n",
      "准确率：0.9005226981210284\n",
      "f-measure：0.670498471038803\n",
      "正确率：0.5116723356009071\n",
      "召回率：0.9\n",
      "准确率：0.8967941290703709\n",
      "f-measure：0.6524249153679037\n"
     ]
    }
   ],
   "source": [
    "kValues = []\n",
    "kNNIPNCPrecisions = []\n",
    "kNNIPNCRecalls = [] \n",
    "kNNIPNCF_measures = []\n",
    "for i in range(3, 11):\n",
    "    kValues.append(i)\n",
    "for i in kValues:\n",
    "    kNNIPNCs = at.testKNNByDir(fileName, 'IPNC_KNN', i)\n",
    "    kNNIPNCPrecisions.append(kNNIPNCs[0])\n",
    "    kNNIPNCRecalls.append(kNNIPNCs[1])\n",
    "    kNNIPNCF_measures.append(kNNIPNCs[2])"
   ]
  },
  {
   "cell_type": "code",
   "execution_count": 10,
   "metadata": {},
   "outputs": [
    {
     "data": {
      "image/png": "[encoded data removed]",
      "text/plain": [
       "<matplotlib.figure.Figure at 0x1d1de020898>"
      ]
     },
     "metadata": {},
     "output_type": "display_data"
    }
   ],
   "source": [
    "cp.createKNNPlotter(kValues, kNNPrecisions, kNNIPDCPrecisions, kNNIPDSPrecisions, kNNIPDCSPrecisions, 'precision')"
   ]
  },
  {
   "cell_type": "code",
   "execution_count": 11,
   "metadata": {},
   "outputs": [
    {
     "data": {
      "image/png": "[encoded data removed]",
      "text/plain": [
       "<matplotlib.figure.Figure at 0x1d1ddf875c0>"
      ]
     },
     "metadata": {},
     "output_type": "display_data"
    }
   ],
   "source": [
    "cp.createKNNPlotter(kValues, kNNRecalls, kNNIPDCRecalls, kNNIPDSRecalls, kNNIPDCSRecalls, 'recall')"
   ]
  },
  {
   "cell_type": "code",
   "execution_count": 12,
   "metadata": {},
   "outputs": [
    {
     "data": {
      "image/png": "[encoded data removed]",
      "text/plain": [
       "<matplotlib.figure.Figure at 0x1d1de2d04e0>"
      ]
     },
     "metadata": {},
     "output_type": "display_data"
    }
   ],
   "source": [
    "cp.createKNNPlotter(kValues, kNNF_measures, kNNIPDCF_measures, kNNIPDSF_measures, kNNIPDCSF_measures, 'F-measure')"
   ]
  },
  {
   "cell_type": "code",
   "execution_count": 13,
   "metadata": {},
   "outputs": [],
   "source": [
    "precisions.append(kNNIPDCPrecisions[3])\n",
    "recalls.append(kNNIPDCRecalls[3])\n",
    "f_measures.append(kNNIPDCF_measures[3])\n",
    "precisions.append(kNNIPDSPrecisions[3])\n",
    "recalls.append(kNNIPDSRecalls[3])\n",
    "f_measures.append(kNNIPDSF_measures[3])\n",
    "precisions.append(kNNIPDCSPrecisions[3])\n",
    "recalls.append(kNNIPDCSRecalls[3])\n",
    "f_measures.append(kNNIPDCSF_measures[3])\n",
    "precisions.append(kNNPrecisions[3])\n",
    "recalls.append(kNNRecalls[3])\n",
    "f_measures.append(kNNF_measures[3])"
   ]
  },
  {
   "cell_type": "code",
   "execution_count": 14,
   "metadata": {},
   "outputs": [
    {
     "name": "stdout",
     "output_type": "stream",
     "text": [
      "正确率：0.0\n",
      "召回率：0.0\n",
      "准确率：0.895985032197421\n",
      "f-measure：0\n"
     ]
    }
   ],
   "source": [
    "SVMs = at.testOthersByDir(fileName, 'SVM', 0)\n",
    "precisions.append(SVMs[0])\n",
    "recalls.append(SVMs[1])\n",
    "f_measures.append(SVMs[2])"
   ]
  },
  {
   "cell_type": "code",
   "execution_count": 15,
   "metadata": {},
   "outputs": [
    {
     "name": "stdout",
     "output_type": "stream",
     "text": [
      "正确率：0.7504761904761905\n",
      "召回率：0.4785714285714285\n",
      "准确率：0.927102786961758\n",
      "f-measure：0.584446781424697\n"
     ]
    }
   ],
   "source": [
    "RFs = at.testOthersByDir(fileName, 'RF')\n",
    "precisions.append(RFs[0])\n",
    "recalls.append(RFs[1])\n",
    "f_measures.append(RFs[2])"
   ]
  },
  {
   "cell_type": "code",
   "execution_count": 16,
   "metadata": {},
   "outputs": [
    {
     "name": "stdout",
     "output_type": "stream",
     "text": [
      "正确率：0.3763565891472868\n",
      "召回率：0.8857142857142858\n",
      "准确率：0.8225739333074404\n",
      "f-measure：0.5282499012854824\n"
     ]
    }
   ],
   "source": [
    "bayes = at.testOthersByDir(fileName, 'Bayes')\n",
    "precisions.append(bayes[0])\n",
    "recalls.append(bayes[1])\n",
    "f_measures.append(bayes[2])"
   ]
  },
  {
   "cell_type": "code",
   "execution_count": 17,
   "metadata": {},
   "outputs": [
    {
     "name": "stdout",
     "output_type": "stream",
     "text": [
      "正确率：0.5040712332421797\n",
      "召回率：0.65\n",
      "准确率：0.8974498271816078\n",
      "f-measure：0.5678094941972456\n"
     ]
    }
   ],
   "source": [
    "trees = at.testOthersByDir(fileName, 'Tree')\n",
    "precisions.append(trees[0])\n",
    "recalls.append(trees[1])\n",
    "f_measures.append(trees[2])"
   ]
  },
  {
   "cell_type": "code",
   "execution_count": 18,
   "metadata": {},
   "outputs": [
    {
     "data": {
      "image/png": "[encoded data removed]",
      "text/plain": [
       "<matplotlib.figure.Figure at 0x1d1de0205c0>"
      ]
     },
     "metadata": {},
     "output_type": "display_data"
    }
   ],
   "source": [
    "cp.createClassPlotter(precisions, recalls, f_measures)"
   ]
  }
 ],
 "metadata": {
  "kernelspec": {
   "display_name": "Python 3",
   "language": "python",
   "name": "python3"
  },
  "language_info": {
   "codemirror_mode": {
    "name": "ipython",
    "version": 3
   },
   "file_extension": ".py",
   "mimetype": "text/x-python",
   "name": "python",
   "nbconvert_exporter": "python",
   "pygments_lexer": "ipython3",
   "version": "3.6.4"
  }
 },
 "nbformat": 4,
 "nbformat_minor": 2
}
