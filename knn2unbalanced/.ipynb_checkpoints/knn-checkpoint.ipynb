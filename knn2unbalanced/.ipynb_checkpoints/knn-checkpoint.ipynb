{
 "cells": [
  {
   "cell_type": "code",
   "execution_count": 1,
   "metadata": {},
   "outputs": [],
   "source": [
    "import kNN\n",
    "from imp import reload"
   ]
  },
  {
   "cell_type": "code",
   "execution_count": 2,
   "metadata": {},
   "outputs": [
    {
     "data": {
      "text/plain": [
       "<module 'kNN' from 'F:\\\\pythonCode\\\\knn2unbalanced\\\\kNN.py'>"
      ]
     },
     "execution_count": 2,
     "metadata": {},
     "output_type": "execute_result"
    }
   ],
   "source": [
    "reload(kNN)"
   ]
  },
  {
   "cell_type": "code",
   "execution_count": 3,
   "metadata": {},
   "outputs": [
    {
     "name": "stdout",
     "output_type": "stream",
     "text": [
      "the classifier came back with: negative, the real answer is: negative\n",
      "the classifier came back with: positive, the real answer is: positive\n",
      "the classifier came back with: negative, the real answer is: negative\n",
      "the classifier came back with: negative, the real answer is: negative\n",
      "the classifier came back with: negative, the real answer is: negative\n",
      "the classifier came back with: negative, the real answer is: negative\n",
      "the classifier came back with: negative, the real answer is: negative\n",
      "the classifier came back with: negative, the real answer is: negative\n",
      "the classifier came back with: negative, the real answer is: negative\n",
      "the classifier came back with: negative, the real answer is: negative\n",
      "the classifier came back with: negative, the real answer is: negative\n",
      "the classifier came back with: negative, the real answer is: negative\n",
      "the classifier came back with: negative, the real answer is: negative\n",
      "the classifier came back with: negative, the real answer is: negative\n",
      "the classifier came back with: negative, the real answer is: negative\n",
      "the classifier came back with: negative, the real answer is: negative\n",
      "the classifier came back with: negative, the real answer is: negative\n",
      "the classifier came back with: negative, the real answer is: negative\n",
      "the classifier came back with: negative, the real answer is: negative\n",
      "the classifier came back with: negative, the real answer is: negative\n",
      "the classifier came back with: negative, the real answer is: negative\n",
      "the classifier came back with: negative, the real answer is: negative\n",
      "the classifier came back with: negative, the real answer is: positive\n",
      "the classifier came back with: negative, the real answer is: negative\n",
      "the classifier came back with: negative, the real answer is: negative\n",
      "the classifier came back with: negative, the real answer is: negative\n",
      "the classifier came back with: negative, the real answer is: negative\n",
      "the classifier came back with: negative, the real answer is: negative\n",
      "the classifier came back with: negative, the real answer is: negative\n",
      "the classifier came back with: negative, the real answer is: negative\n",
      "the classifier came back with: negative, the real answer is: negative\n",
      "the classifier came back with: negative, the real answer is: positive\n",
      "the classifier came back with: positive, the real answer is: negative\n",
      "the classifier came back with: negative, the real answer is: negative\n",
      "the classifier came back with: negative, the real answer is: negative\n",
      "the classifier came back with: negative, the real answer is: negative\n",
      "the classifier came back with: negative, the real answer is: negative\n",
      "the classifier came back with: negative, the real answer is: negative\n",
      "the classifier came back with: negative, the real answer is: negative\n",
      "the classifier came back with: negative, the real answer is: negative\n",
      "the classifier came back with: negative, the real answer is: negative\n",
      "the classifier came back with: negative, the real answer is: negative\n",
      "the classifier came back with: negative, the real answer is: negative\n",
      "the classifier came back with: positive, the real answer is: positive\n",
      "the classifier came back with: negative, the real answer is: negative\n",
      "the classifier came back with: negative, the real answer is: negative\n",
      "the classifier came back with: negative, the real answer is: negative\n",
      "the classifier came back with: negative, the real answer is: negative\n",
      "the classifier came back with: negative, the real answer is: negative\n",
      "the classifier came back with: negative, the real answer is: negative\n",
      "the classifier came back with: negative, the real answer is: negative\n",
      "the classifier came back with: positive, the real answer is: positive\n",
      "the classifier came back with: negative, the real answer is: negative\n",
      "the classifier came back with: negative, the real answer is: negative\n",
      "the classifier came back with: positive, the real answer is: negative\n",
      "the classifier came back with: negative, the real answer is: negative\n",
      "the classifier came back with: negative, the real answer is: negative\n",
      "the classifier came back with: negative, the real answer is: negative\n",
      "the classifier came back with: negative, the real answer is: negative\n",
      "the classifier came back with: negative, the real answer is: negative\n",
      "the classifier came back with: negative, the real answer is: positive\n",
      "the classifier came back with: negative, the real answer is: negative\n",
      "the classifier came back with: negative, the real answer is: negative\n",
      "the classifier came back with: negative, the real answer is: negative\n",
      "the classifier came back with: negative, the real answer is: negative\n",
      "the classifier came back with: negative, the real answer is: negative\n",
      "the classifier came back with: positive, the real answer is: positive\n",
      "\n",
      "the total numbers of errors is: 5\n",
      "\n",
      "the total error rate is: 0.074627\n"
     ]
    }
   ],
   "source": [
    "kNN.datingClassTest()"
   ]
  }
 ],
 "metadata": {
  "kernelspec": {
   "display_name": "Python 3",
   "language": "python",
   "name": "python3"
  },
  "language_info": {
   "codemirror_mode": {
    "name": "ipython",
    "version": 3
   },
   "file_extension": ".py",
   "mimetype": "text/x-python",
   "name": "python",
   "nbconvert_exporter": "python",
   "pygments_lexer": "ipython3",
   "version": "3.6.4"
  }
 },
 "nbformat": 4,
 "nbformat_minor": 2
}
