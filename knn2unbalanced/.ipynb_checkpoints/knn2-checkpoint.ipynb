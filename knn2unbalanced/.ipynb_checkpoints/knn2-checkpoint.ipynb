{
 "cells": [
  {
   "cell_type": "code",
   "execution_count": 1,
   "metadata": {},
   "outputs": [],
   "source": [
    "import kNN\n",
    "from imp import reload"
   ]
  },
  {
   "cell_type": "code",
   "execution_count": 18,
   "metadata": {
    "scrolled": true
   },
   "outputs": [
    {
     "name": "stdout",
     "output_type": "stream",
     "text": [
      "tp: 3 tn: 26 fp: 0 fn: 4\n",
      "正确率：1.0\n",
      "召回率：0.42857142857142855\n",
      "准确率：0.8787878787878788\n",
      "\n",
      "the total numbers of errors is: 4\n",
      "\n",
      "the total error rate is: 0.121212\n"
     ]
    }
   ],
   "source": [
    "kNN.datingClassTest()"
   ]
  },
  {
   "cell_type": "code",
   "execution_count": 18,
   "metadata": {},
   "outputs": [
    {
     "data": {
      "text/plain": [
       "<module 'kNN' from 'F:\\\\pythonCode\\\\knn2unbalanced\\\\kNN.py'>"
      ]
     },
     "execution_count": 18,
     "metadata": {},
     "output_type": "execute_result"
    }
   ],
   "source": [
    "reload(kNN)"
   ]
  },
  {
   "cell_type": "code",
   "execution_count": 21,
   "metadata": {},
   "outputs": [
    {
     "name": "stdout",
     "output_type": "stream",
     "text": [
      "['-1' '1' '1' '1' '1' '-1' '1' '-1' '-1' '1']\n",
      "['-1', '1', '1', '1', '1', '-1', '1', '-1', '-1', '1']\n"
     ]
    }
   ],
   "source": [
    "from sklearn.svm import SVC \n",
    "dataMat, labels = kNN.loadDataSet('ecoli1.dat')\n",
    "normTrainingMat, normTestMat, hmLabels, chmLabels = kNN.crossAuth(dataMat, labels, 3)\n",
    "model = SVC(kernel='rbf', probability=True)  \n",
    "model.fit(normTrainingMat, hmLabels)  \n",
    "predict = model.predict(normTestMat)\n",
    "print(predict)\n",
    "print(chmLabels)"
   ]
  },
  {
   "cell_type": "code",
   "execution_count": 23,
   "metadata": {},
   "outputs": [
    {
     "name": "stdout",
     "output_type": "stream",
     "text": [
      "['-1' '1' '1' '1' '1' '-1' '1' '-1' '-1' '1']\n",
      "['-1', '1', '1', '1', '1', '-1', '1', '-1', '-1', '1']\n"
     ]
    }
   ],
   "source": [
    "from sklearn.ensemble import RandomForestClassifier \n",
    "dataMat, labels = kNN.loadDataSet('ecoli1.dat')\n",
    "normTrainingMat, normTestMat, hmLabels, chmLabels = kNN.crossAuth(dataMat, labels, 3)\n",
    "model = RandomForestClassifier(n_estimators=8)  \n",
    "model.fit(normTrainingMat, hmLabels)  \n",
    "predict = model.predict(normTestMat)\n",
    "print(predict)\n",
    "print(chmLabels)"
   ]
  },
  {
   "cell_type": "code",
   "execution_count": null,
   "metadata": {},
   "outputs": [],
   "source": []
  }
 ],
 "metadata": {
  "kernelspec": {
   "display_name": "Python 3",
   "language": "python",
   "name": "python3"
  },
  "language_info": {
   "codemirror_mode": {
    "name": "ipython",
    "version": 3
   },
   "file_extension": ".py",
   "mimetype": "text/x-python",
   "name": "python",
   "nbconvert_exporter": "python",
   "pygments_lexer": "ipython3",
   "version": "3.6.4"
  }
 },
 "nbformat": 4,
 "nbformat_minor": 2
}
