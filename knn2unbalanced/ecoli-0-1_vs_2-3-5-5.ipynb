{
 "cells": [
  {
   "cell_type": "code",
   "execution_count": 1,
   "metadata": {},
   "outputs": [],
   "source": [
    "import algorithmTest as at\n",
    "import createPlotter as cp\n",
    "import dataTreat as dt\n",
    "from imp import reload\n",
    "fileName = 'ecoli-0-1_vs_2-3-5-5-fold'\n",
    "file = 'ecoli-0-1_vs_2-3-5-5-fold'"
   ]
  },
  {
   "cell_type": "code",
   "execution_count": 2,
   "metadata": {},
   "outputs": [],
   "source": [
    "dataMat, labels, features, length = dt.createIR(fileName)"
   ]
  },
  {
   "cell_type": "code",
   "execution_count": 25,
   "metadata": {},
   "outputs": [
    {
     "name": "stdout",
     "output_type": "stream",
     "text": [
      "1220\n"
     ]
    },
    {
     "data": {
      "image/png": "[encoded data removed]",
      "text/plain": [
       "<matplotlib.figure.Figure at 0x207a5325518>"
      ]
     },
     "metadata": {},
     "output_type": "display_data"
    }
   ],
   "source": [
    "print(length)\n",
    "cp.createIRPlotter(dataMat, labels, features, file)"
   ]
  },
  {
   "cell_type": "code",
   "execution_count": 4,
   "metadata": {},
   "outputs": [],
   "source": [
    "precisions = []\n",
    "recalls = []\n",
    "f_measures = []"
   ]
  },
  {
   "cell_type": "code",
   "execution_count": 5,
   "metadata": {},
   "outputs": [
    {
     "name": "stdout",
     "output_type": "stream",
     "text": [
      "正确率：0.9233333333333335\n",
      "召回率：0.6947368421052632\n",
      "准确率：0.9632025117739402\n",
      "f-measure：0.7928873468502657\n",
      "正确率：0.9214285714285715\n",
      "召回率：0.6736842105263159\n",
      "准确率：0.9611512297226582\n",
      "f-measure：0.778317228376149\n",
      "正确率：0.96\n",
      "召回率：0.631578947368421\n",
      "准确率：0.9611302982731555\n",
      "f-measure：0.7619047619047619\n",
      "正确率：0.9666666666666668\n",
      "召回率：0.6126315789473684\n",
      "准确率：0.9590999476713762\n",
      "f-measure：0.7499666740724283\n",
      "正确率：0.8666666666666668\n",
      "召回率：0.4863157894736842\n",
      "准确率：0.9467922553636839\n",
      "f-measure：0.6230290456431536\n",
      "正确率：1.0\n",
      "召回率：0.4863157894736842\n",
      "准确率：0.948843537414966\n",
      "f-measure：0.6543909348441926\n",
      "正确率：0.6\n",
      "召回率：0.36\n",
      "准确率：0.9365358451072737\n",
      "f-measure：0.45\n",
      "正确率：0.6\n",
      "召回率：0.36\n",
      "准确率：0.9365358451072737\n",
      "f-measure：0.45\n"
     ]
    }
   ],
   "source": [
    "kValues = []\n",
    "kNNPrecisions = []\n",
    "kNNRecalls = [] \n",
    "kNNF_measures = []\n",
    "for i in range(3, 11):\n",
    "    kValues.append(i)\n",
    "for i in kValues:\n",
    "    kNNs = at.testKNNByDir(fileName, 'KNN', i)\n",
    "    kNNPrecisions.append(kNNs[0])\n",
    "    kNNRecalls.append(kNNs[1])\n",
    "    kNNF_measures.append(kNNs[2])"
   ]
  },
  {
   "cell_type": "code",
   "execution_count": 6,
   "metadata": {},
   "outputs": [
    {
     "name": "stdout",
     "output_type": "stream",
     "text": [
      "正确率：0.9264705882352942\n",
      "召回率：0.7663157894736841\n",
      "准确率：0.9703610675039247\n",
      "f-measure：0.8388170528741518\n",
      "正确率：0.9264705882352942\n",
      "召回率：0.7663157894736841\n",
      "准确率：0.9703610675039247\n",
      "f-measure：0.8388170528741518\n",
      "正确率：0.9264705882352942\n",
      "召回率：0.7663157894736841\n",
      "准确率：0.9703610675039247\n",
      "f-measure：0.8388170528741518\n",
      "正确率：0.9264705882352942\n",
      "召回率：0.7663157894736841\n",
      "准确率：0.9703610675039247\n",
      "f-measure：0.8388170528741518\n",
      "正确率：0.925\n",
      "召回率：0.7557894736842105\n",
      "准确率：0.9693354264782836\n",
      "f-measure：0.8318772506654141\n",
      "正确率：0.8833333333333332\n",
      "召回率：0.7242105263157894\n",
      "准确率：0.9621768707482994\n",
      "f-measure：0.7958965404343554\n",
      "正确率：0.8814285714285713\n",
      "召回率：0.7031578947368422\n",
      "准确率：0.9601255886970174\n",
      "f-measure：0.7822652431791222\n",
      "正确率：0.9099999999999999\n",
      "召回率：0.7031578947368422\n",
      "准确率：0.9621768707482994\n",
      "f-measure：0.7933181076672104\n"
     ]
    }
   ],
   "source": [
    "kValues = []\n",
    "kNNIPDCPrecisions = []\n",
    "kNNIPDCRecalls = [] \n",
    "kNNIPDCF_measures = []\n",
    "for i in range(3, 11):\n",
    "    kValues.append(i)\n",
    "for i in kValues:\n",
    "    kNNIPDCs = at.testKNNByDir(fileName, 'IPDC_KNN', i)\n",
    "    kNNIPDCPrecisions.append(kNNIPDCs[0])\n",
    "    kNNIPDCRecalls.append(kNNIPDCs[1])\n",
    "    kNNIPDCF_measures.append(kNNIPDCs[2])"
   ]
  },
  {
   "cell_type": "code",
   "execution_count": 7,
   "metadata": {},
   "outputs": [
    {
     "name": "stdout",
     "output_type": "stream",
     "text": [
      "正确率：0.9264705882352942\n",
      "召回率：0.7157894736842105\n",
      "准确率：0.9652537938252224\n",
      "f-measure：0.8076161749458007\n",
      "正确率：0.9264705882352942\n",
      "召回率：0.7157894736842105\n",
      "准确率：0.9652537938252224\n",
      "f-measure：0.8076161749458007\n",
      "正确率：0.9233333333333335\n",
      "召回率：0.6947368421052632\n",
      "准确率：0.9632025117739402\n",
      "f-measure：0.7928873468502657\n",
      "正确率：0.9264705882352942\n",
      "召回率：0.6757894736842105\n",
      "准确率：0.9611721611721611\n",
      "f-measure：0.7815199118891658\n",
      "正确率：0.9214285714285715\n",
      "召回率：0.6336842105263158\n",
      "准确率：0.957069597069597\n",
      "f-measure：0.750935550935551\n",
      "正确率：0.9214285714285715\n",
      "召回率：0.6231578947368421\n",
      "准确率：0.956043956043956\n",
      "f-measure：0.7434941342549775\n",
      "正确率：0.95\n",
      "召回率：0.6021052631578947\n",
      "准确率：0.956043956043956\n",
      "f-measure：0.7370634113258732\n",
      "正确率：0.95\n",
      "召回率：0.591578947368421\n",
      "准确率：0.955018315018315\n",
      "f-measure：0.7291225674291567\n"
     ]
    }
   ],
   "source": [
    "kValues = []\n",
    "kNNIPDSPrecisions = []\n",
    "kNNIPDSRecalls = [] \n",
    "kNNIPDSF_measures = []\n",
    "for i in range(3, 11):\n",
    "    kValues.append(i)\n",
    "for i in kValues:\n",
    "    kNNIPDSs = at.testKNNByDir(fileName, 'IPDS_KNN', i)\n",
    "    kNNIPDSPrecisions.append(kNNIPDSs[0])\n",
    "    kNNIPDSRecalls.append(kNNIPDSs[1])\n",
    "    kNNIPDSF_measures.append(kNNIPDSs[2])"
   ]
  },
  {
   "cell_type": "code",
   "execution_count": 8,
   "metadata": {},
   "outputs": [
    {
     "name": "stdout",
     "output_type": "stream",
     "text": [
      "正确率：0.9264705882352942\n",
      "召回率：0.7557894736842105\n",
      "准确率：0.9693354264782836\n",
      "f-measure：0.8324714283085192\n",
      "正确率：0.9264705882352942\n",
      "召回率：0.7663157894736841\n",
      "准确率：0.9703610675039247\n",
      "f-measure：0.8388170528741518\n",
      "正确率：0.9264705882352942\n",
      "召回率：0.7557894736842105\n",
      "准确率：0.9693354264782836\n",
      "f-measure：0.8324714283085192\n",
      "正确率：0.9264705882352942\n",
      "召回率：0.7663157894736841\n",
      "准确率：0.9703610675039247\n",
      "f-measure：0.8388170528741518\n",
      "正确率：0.925\n",
      "召回率：0.7452631578947368\n",
      "准确率：0.9683097854526427\n",
      "f-measure：0.8254608476445565\n",
      "正确率：0.925\n",
      "召回率：0.7347368421052632\n",
      "准确率：0.9672841444270016\n",
      "f-measure：0.8189630569208817\n",
      "正确率：0.9233333333333335\n",
      "召回率：0.7136842105263158\n",
      "准确率：0.9652328623757196\n",
      "f-measure：0.8050841281749009\n",
      "正确率：0.9357142857142857\n",
      "召回率：0.7136842105263158\n",
      "准确率：0.9662585034013607\n",
      "f-measure：0.809755208095911\n"
     ]
    }
   ],
   "source": [
    "kValues = []\n",
    "kNNIPDCSPrecisions = []\n",
    "kNNIPDCSRecalls = [] \n",
    "kNNIPDCSF_measures = []\n",
    "for i in range(3, 11):\n",
    "    kValues.append(i)\n",
    "for i in kValues:\n",
    "    kNNIPDCSs = at.testKNNByDir(fileName, 'IPDCS_KNN', i)\n",
    "    kNNIPDCSPrecisions.append(kNNIPDCSs[0])\n",
    "    kNNIPDCSRecalls.append(kNNIPDCSs[1])\n",
    "    kNNIPDCSF_measures.append(kNNIPDCSs[2])"
   ]
  },
  {
   "cell_type": "code",
   "execution_count": 9,
   "metadata": {},
   "outputs": [
    {
     "name": "stdout",
     "output_type": "stream",
     "text": [
      "正确率：0.7641904761904763\n",
      "召回率：0.9368421052631579\n",
      "准确率：0.9641862899005755\n",
      "f-measure：0.8417543818291117\n",
      "正确率：0.7779448621553885\n",
      "召回率：0.9368421052631579\n",
      "准确率：0.9662375719518576\n",
      "f-measure：0.8500315389467531\n",
      "正确率：0.7307777777777777\n",
      "召回率：0.8968421052631579\n",
      "准确率：0.953992673992674\n",
      "f-measure：0.8053382580670659\n",
      "正确率：0.7419082125603864\n",
      "召回率：0.8968421052631579\n",
      "准确率：0.956043956043956\n",
      "f-measure：0.8120511294830808\n",
      "正确率：0.7627777777777778\n",
      "召回率：0.8968421052631579\n",
      "准确率：0.9590999476713762\n",
      "f-measure：0.8243950739089836\n",
      "正确率：0.736111111111111\n",
      "召回率：0.8968421052631579\n",
      "准确率：0.955018315018315\n",
      "f-measure：0.8085662613927338\n",
      "正确率：0.7836928104575163\n",
      "召回率：0.865263157894737\n",
      "准确率：0.9601255886970173\n",
      "f-measure：0.8224604283078284\n",
      "正确率：0.7805555555555556\n",
      "召回率：0.865263157894737\n",
      "准确率：0.9580952380952381\n",
      "f-measure：0.8207294757226359\n"
     ]
    }
   ],
   "source": [
    "kValues = []\n",
    "kNNIPNCPrecisions = []\n",
    "kNNIPNCRecalls = [] \n",
    "kNNIPNCF_measures = []\n",
    "for i in range(3, 11):\n",
    "    kValues.append(i)\n",
    "for i in kValues:\n",
    "    kNNIPNCs = at.testKNNByDir(fileName, 'IPNC_KNN', i)\n",
    "    kNNIPNCPrecisions.append(kNNIPNCs[0])\n",
    "    kNNIPNCRecalls.append(kNNIPNCs[1])\n",
    "    kNNIPNCF_measures.append(kNNIPNCs[2])"
   ]
  },
  {
   "cell_type": "code",
   "execution_count": 10,
   "metadata": {},
   "outputs": [
    {
     "data": {
      "image/png": "[encoded data removed]",
      "text/plain": [
       "<matplotlib.figure.Figure at 0x207a3377828>"
      ]
     },
     "metadata": {},
     "output_type": "display_data"
    }
   ],
   "source": [
    "cp.createKNNPlotter(kValues, kNNPrecisions, kNNIPDCPrecisions, kNNIPDSPrecisions, kNNIPDCSPrecisions, 'precision')"
   ]
  },
  {
   "cell_type": "code",
   "execution_count": 11,
   "metadata": {},
   "outputs": [
    {
     "data": {
      "image/png": "[encoded data removed]",
      "text/plain": [
       "<matplotlib.figure.Figure at 0x207a337ab38>"
      ]
     },
     "metadata": {},
     "output_type": "display_data"
    }
   ],
   "source": [
    "cp.createKNNPlotter(kValues, kNNRecalls, kNNIPDCRecalls, kNNIPDSRecalls, kNNIPDCSRecalls, 'recall')"
   ]
  },
  {
   "cell_type": "code",
   "execution_count": 12,
   "metadata": {},
   "outputs": [
    {
     "data": {
      "image/png": "[encoded data removed]",
      "text/plain": [
       "<matplotlib.figure.Figure at 0x207a34032b0>"
      ]
     },
     "metadata": {},
     "output_type": "display_data"
    }
   ],
   "source": [
    "cp.createKNNPlotter(kValues, kNNF_measures, kNNIPDCF_measures, kNNIPDSF_measures, kNNIPDCSF_measures, 'F-measure')"
   ]
  },
  {
   "cell_type": "code",
   "execution_count": 13,
   "metadata": {},
   "outputs": [],
   "source": [
    "precisions.append(kNNIPDCPrecisions[3])\n",
    "recalls.append(kNNIPDCRecalls[3])\n",
    "f_measures.append(kNNIPDCF_measures[3])\n",
    "precisions.append(kNNIPDSPrecisions[3])\n",
    "recalls.append(kNNIPDSRecalls[3])\n",
    "f_measures.append(kNNIPDSF_measures[3])\n",
    "precisions.append(kNNIPDCSPrecisions[3])\n",
    "recalls.append(kNNIPDCSRecalls[3])\n",
    "f_measures.append(kNNIPDCSF_measures[3])\n",
    "precisions.append(kNNPrecisions[3])\n",
    "recalls.append(kNNRecalls[3])\n",
    "f_measures.append(kNNF_measures[3])"
   ]
  },
  {
   "cell_type": "code",
   "execution_count": 14,
   "metadata": {},
   "outputs": [
    {
     "name": "stdout",
     "output_type": "stream",
     "text": [
      "正确率：0.7564973815613202\n",
      "召回率：0.7347368421052631\n",
      "准确率：0.9447828362114075\n",
      "f-measure：0.7454583436566016\n"
     ]
    }
   ],
   "source": [
    "SVMs = at.testOthersByDir(fileName, 'SVM', 0)\n",
    "precisions.append(SVMs[0])\n",
    "recalls.append(SVMs[1])\n",
    "f_measures.append(SVMs[2])\n",
    "# cp.createROCPlotter(SVMs[3], SVMs[4], 'ecoli-SVM')"
   ]
  },
  {
   "cell_type": "code",
   "execution_count": 15,
   "metadata": {},
   "outputs": [
    {
     "name": "stdout",
     "output_type": "stream",
     "text": [
      "正确率：0.8247619047619048\n",
      "召回率：0.6421052631578947\n",
      "准确率：0.9499110413396128\n",
      "f-measure：0.722061235647895\n"
     ]
    }
   ],
   "source": [
    "RFs = at.testOthersByDir(fileName, 'RF')\n",
    "precisions.append(RFs[0])\n",
    "recalls.append(RFs[1])\n",
    "f_measures.append(RFs[2])\n",
    "# cp.createROCPlotter(RFs[3], RFs[4], 'ecoli-RF')"
   ]
  },
  {
   "cell_type": "code",
   "execution_count": 16,
   "metadata": {},
   "outputs": [
    {
     "name": "stdout",
     "output_type": "stream",
     "text": [
      "正确率：0.48224932249322494\n",
      "召回率：0.8273684210526315\n",
      "准确率：0.8895866038723181\n",
      "f-measure：0.6093348421267016\n"
     ]
    }
   ],
   "source": [
    "bayes = at.testOthersByDir(fileName, 'Bayes', 0)\n",
    "precisions.append(bayes[0])\n",
    "recalls.append(bayes[1])\n",
    "f_measures.append(bayes[2])"
   ]
  },
  {
   "cell_type": "code",
   "execution_count": 17,
   "metadata": {},
   "outputs": [
    {
     "name": "stdout",
     "output_type": "stream",
     "text": [
      "正确率：0.6615151515151516\n",
      "召回率：0.6842105263157896\n",
      "准确率：0.9325170068027211\n",
      "f-measure：0.6726714626023681\n"
     ]
    }
   ],
   "source": [
    "trees = at.testOthersByDir(fileName, 'Tree')\n",
    "precisions.append(trees[0])\n",
    "recalls.append(trees[1])\n",
    "f_measures.append(trees[2])"
   ]
  },
  {
   "cell_type": "code",
   "execution_count": 18,
   "metadata": {
    "scrolled": true
   },
   "outputs": [
    {
     "data": {
      "image/png": "[encoded data removed]",
      "text/plain": [
       "<matplotlib.figure.Figure at 0x207a33e5ba8>"
      ]
     },
     "metadata": {},
     "output_type": "display_data"
    }
   ],
   "source": [
    "cp.createClassPlotter(precisions, recalls, f_measures)"
   ]
  },
  {
   "cell_type": "code",
   "execution_count": 19,
   "metadata": {},
   "outputs": [
    {
     "data": {
      "text/plain": [
       "\"kNNs = at.testKNNByDir(fileName, 'KNN', 6)\\nkNNIPDCs = at.testKNNByDir(fileName, 'IPDC_KNN', 6)\\nkNNIPDSs = at.testKNNByDir(fileName, 'IPDS_KNN', 6)\\nkNNIPDCSs = at.testKNNByDir(fileName, 'IPDCS_KNN', 6)\\ncp.createROCPlotter(kNNs[3], kNNs[4], 'ecoli-KNN')\\ncp.createROCPlotter(kNNIPDCs[3], kNNIPDCs[4], 'ecoli-IPDC_KNN')\\ncp.createROCPlotter(kNNIPDSs[3], kNNIPDSs[4], 'ecoli-IPDS_KNN')\\ncp.createROCPlotter(kNNIPDCSs[3], kNNIPDCSs[4], 'ecoli-IPDCS_KNN')\""
      ]
     },
     "execution_count": 19,
     "metadata": {},
     "output_type": "execute_result"
    }
   ],
   "source": [
    "'''kNNs = at.testKNNByDir(fileName, 'KNN', 6)\n",
    "kNNIPDCs = at.testKNNByDir(fileName, 'IPDC_KNN', 6)\n",
    "kNNIPDSs = at.testKNNByDir(fileName, 'IPDS_KNN', 6)\n",
    "kNNIPDCSs = at.testKNNByDir(fileName, 'IPDCS_KNN', 6)\n",
    "cp.createROCPlotter(kNNs[3], kNNs[4], 'ecoli-KNN')\n",
    "cp.createROCPlotter(kNNIPDCs[3], kNNIPDCs[4], 'ecoli-IPDC_KNN')\n",
    "cp.createROCPlotter(kNNIPDSs[3], kNNIPDSs[4], 'ecoli-IPDS_KNN')\n",
    "cp.createROCPlotter(kNNIPDCSs[3], kNNIPDCSs[4], 'ecoli-IPDCS_KNN')'''"
   ]
  }
 ],
 "metadata": {
  "kernelspec": {
   "display_name": "Python 3",
   "language": "python",
   "name": "python3"
  },
  "language_info": {
   "codemirror_mode": {
    "name": "ipython",
    "version": 3
   },
   "file_extension": ".py",
   "mimetype": "text/x-python",
   "name": "python",
   "nbconvert_exporter": "python",
   "pygments_lexer": "ipython3",
   "version": "3.6.4"
  }
 },
 "nbformat": 4,
 "nbformat_minor": 2
}
