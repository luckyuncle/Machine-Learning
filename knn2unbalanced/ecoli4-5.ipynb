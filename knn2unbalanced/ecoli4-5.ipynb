{
 "cells": [
  {
   "cell_type": "code",
   "execution_count": 1,
   "metadata": {},
   "outputs": [],
   "source": [
    "import algorithmTest as at\n",
    "import createPlotter as cp\n",
    "import dataTreat as dt\n",
    "from imp import reload\n",
    "fileName = 'ecoli4-5-fold'\n",
    "file = 'ecoli4-5-fold'"
   ]
  },
  {
   "cell_type": "code",
   "execution_count": 2,
   "metadata": {},
   "outputs": [],
   "source": [
    "dataMat, labels, features, length = dt.createIR(fileName)"
   ]
  },
  {
   "cell_type": "code",
   "execution_count": 3,
   "metadata": {},
   "outputs": [
    {
     "name": "stdout",
     "output_type": "stream",
     "text": [
      "1680\n"
     ]
    },
    {
     "data": {
      "image/png": "[encoded data removed]",
      "text/plain": [
       "<matplotlib.figure.Figure at 0x11c05bf0908>"
      ]
     },
     "metadata": {},
     "output_type": "display_data"
    }
   ],
   "source": [
    "print(length)\n",
    "cp.createIRPlotter(dataMat, labels, features, file)"
   ]
  },
  {
   "cell_type": "code",
   "execution_count": 4,
   "metadata": {},
   "outputs": [],
   "source": [
    "precisions = []\n",
    "recalls = []\n",
    "f_measures = []"
   ]
  },
  {
   "cell_type": "code",
   "execution_count": 5,
   "metadata": {},
   "outputs": [
    {
     "name": "stdout",
     "output_type": "stream",
     "text": [
      "正确率：0.9529411764705882\n",
      "召回率：0.775\n",
      "准确率：0.9836537300377621\n",
      "f-measure：0.8548085106382979\n",
      "正确率：0.9333333333333333\n",
      "召回率：0.775\n",
      "准确率：0.9821556442584802\n",
      "f-measure：0.8468292682926829\n",
      "正确率：0.9555555555555555\n",
      "召回率：0.7125\n",
      "准确率：0.9799251609871048\n",
      "f-measure：0.8163197335553705\n",
      "正确率：0.975\n",
      "召回率：0.825\n",
      "准确率：0.9881257935122114\n",
      "f-measure：0.89375\n",
      "正确率：0.9357142857142857\n",
      "召回率：0.7625\n",
      "准确率：0.9822106393464558\n",
      "f-measure：0.840273396424816\n",
      "正确率：0.95\n",
      "召回率：0.7625\n",
      "准确率：0.9829541337702477\n",
      "f-measure：0.8459854014598539\n",
      "正确率：0.55\n",
      "召回率：0.4\n",
      "准确率：0.9613706016168881\n",
      "f-measure：0.46315789473684216\n",
      "正确率：0.55\n",
      "召回率：0.4\n",
      "准确率：0.9613706016168881\n",
      "f-measure：0.46315789473684216\n"
     ]
    }
   ],
   "source": [
    "kValues = []\n",
    "kNNPrecisions = []\n",
    "kNNRecalls = [] \n",
    "kNNF_measures = []\n",
    "for i in range(3, 11):\n",
    "    kValues.append(i)\n",
    "for i in kValues:\n",
    "    kNNs = at.testKNNByDir(fileName, 'KNN', i)\n",
    "    kNNPrecisions.append(kNNs[0])\n",
    "    kNNRecalls.append(kNNs[1])\n",
    "    kNNF_measures.append(kNNs[2])"
   ]
  },
  {
   "cell_type": "code",
   "execution_count": 6,
   "metadata": {},
   "outputs": [
    {
     "name": "stdout",
     "output_type": "stream",
     "text": [
      "正确率：0.8168888888888889\n",
      "召回率：0.975\n",
      "准确率：0.9828774343893913\n",
      "f-measure：0.8889688100700688\n",
      "正确率：0.8168888888888889\n",
      "召回率：0.975\n",
      "准确率：0.9828774343893913\n",
      "f-measure：0.8889688100700688\n",
      "正确率：0.8192280701754386\n",
      "召回率：0.9875\n",
      "准确率：0.9836209288131832\n",
      "f-measure：0.8955279243762351\n",
      "正确率：0.8143049932523617\n",
      "召回率：0.9875\n",
      "准确率：0.9828774343893913\n",
      "f-measure：0.8925784797445956\n",
      "正确率：0.8303585049580473\n",
      "召回率：0.9875\n",
      "准确率：0.9851079176607669\n",
      "f-measure：0.9021373461241917\n",
      "正确率：0.8222222222222222\n",
      "召回率：0.975\n",
      "准确率：0.9836209288131832\n",
      "f-measure：0.8921174652241113\n",
      "正确率：0.8408963585434174\n",
      "召回率：0.9625\n",
      "准确率：0.9851079176607669\n",
      "f-measure：0.8975982914280167\n",
      "正确率：0.835\n",
      "召回率：0.9625\n",
      "准确率：0.9851407188853459\n",
      "f-measure：0.8942280945757998\n"
     ]
    }
   ],
   "source": [
    "kValues = []\n",
    "kNNIPDCPrecisions = []\n",
    "kNNIPDCRecalls = [] \n",
    "kNNIPDCF_measures = []\n",
    "for i in range(3, 11):\n",
    "    kValues.append(i)\n",
    "for i in kValues:\n",
    "    kNNIPDCs = at.testKNNByDir(fileName, 'IPDC_KNN', i)\n",
    "    kNNIPDCPrecisions.append(kNNIPDCs[0])\n",
    "    kNNIPDCRecalls.append(kNNIPDCs[1])\n",
    "    kNNIPDCF_measures.append(kNNIPDCs[2])"
   ]
  },
  {
   "cell_type": "code",
   "execution_count": 7,
   "metadata": {},
   "outputs": [
    {
     "name": "stdout",
     "output_type": "stream",
     "text": [
      "正确率：0.9625\n",
      "召回率：0.7875\n",
      "准确率：0.9851407188853459\n",
      "f-measure：0.86625\n",
      "正确率：0.9333333333333333\n",
      "召回率：0.7875\n",
      "准确率：0.982899138682272\n",
      "f-measure：0.8542372881355933\n",
      "正确率：0.9733333333333334\n",
      "召回率：0.7375\n",
      "准确率：0.982899138682272\n",
      "f-measure：0.8391622016561131\n",
      "正确率：0.975\n",
      "召回率：0.8\n",
      "准确率：0.9866277077329295\n",
      "f-measure：0.8788732394366198\n",
      "正确率：0.9733333333333334\n",
      "召回率：0.8375\n",
      "准确率：0.9888692879360033\n",
      "f-measure：0.9003221352968246\n",
      "正确率：0.9733333333333334\n",
      "召回率：0.7875\n",
      "准确率：0.9858842133091377\n",
      "f-measure：0.8706105063890205\n",
      "正确率：0.9733333333333334\n",
      "召回率：0.7375\n",
      "准确率：0.982899138682272\n",
      "f-measure：0.8391622016561131\n",
      "正确率：0.9733333333333334\n",
      "召回率：0.7375\n",
      "准确率：0.982899138682272\n",
      "f-measure：0.8391622016561131\n"
     ]
    }
   ],
   "source": [
    "kValues = []\n",
    "kNNIPDSPrecisions = []\n",
    "kNNIPDSRecalls = [] \n",
    "kNNIPDSF_measures = []\n",
    "for i in range(3, 11):\n",
    "    kValues.append(i)\n",
    "for i in kValues:\n",
    "    kNNIPDSs = at.testKNNByDir(fileName, 'IPDS_KNN', i)\n",
    "    kNNIPDSPrecisions.append(kNNIPDSs[0])\n",
    "    kNNIPDSRecalls.append(kNNIPDSs[1])\n",
    "    kNNIPDSF_measures.append(kNNIPDSs[2])"
   ]
  },
  {
   "cell_type": "code",
   "execution_count": 8,
   "metadata": {},
   "outputs": [
    {
     "name": "stdout",
     "output_type": "stream",
     "text": [
      "正确率：0.8804545454545455\n",
      "召回率：0.875\n",
      "准确率：0.9836537300377624\n",
      "f-measure：0.8777187985499741\n",
      "正确率：0.8607142857142858\n",
      "召回率：0.925\n",
      "准确率：0.9843972244615541\n",
      "f-measure：0.8917\n",
      "正确率：0.8580392156862745\n",
      "召回率：0.875\n",
      "准确率：0.9814121498346884\n",
      "f-measure：0.8664366125473779\n",
      "正确率：0.875\n",
      "召回率：0.9125\n",
      "准确率：0.9851407188853459\n",
      "f-measure：0.8933566433566433\n",
      "正确率：0.875\n",
      "召回率：0.9125\n",
      "准确率：0.9851407188853459\n",
      "f-measure：0.8933566433566433\n",
      "正确率：0.8708333333333333\n",
      "召回率：0.8875\n",
      "准确率：0.9836537300377624\n",
      "f-measure：0.8790876777251184\n",
      "正确率：0.8708333333333333\n",
      "召回率：0.8875\n",
      "准确率：0.9836537300377624\n",
      "f-measure：0.8790876777251184\n",
      "正确率：0.8708333333333333\n",
      "召回率：0.9375\n",
      "准确率：0.9865949065083506\n",
      "f-measure：0.9029377880184332\n"
     ]
    }
   ],
   "source": [
    "kValues = []\n",
    "kNNIPDCSPrecisions = []\n",
    "kNNIPDCSRecalls = [] \n",
    "kNNIPDCSF_measures = []\n",
    "for i in range(3, 11):\n",
    "    kValues.append(i)\n",
    "for i in kValues:\n",
    "    kNNIPDCSs = at.testKNNByDir(fileName, 'IPDCS_KNN', i)\n",
    "    kNNIPDCSPrecisions.append(kNNIPDCSs[0])\n",
    "    kNNIPDCSRecalls.append(kNNIPDCSs[1])\n",
    "    kNNIPDCSF_measures.append(kNNIPDCSs[2])"
   ]
  },
  {
   "cell_type": "code",
   "execution_count": 9,
   "metadata": {},
   "outputs": [
    {
     "name": "stdout",
     "output_type": "stream",
     "text": [
      "正确率：0.23445212058293535\n",
      "召回率：1.0\n",
      "准确率：0.8002478858713212\n",
      "f-measure：0.37984805837948893\n",
      "正确率：0.23225127095927384\n",
      "召回率：1.0\n",
      "准确率：0.797995208736549\n",
      "f-measure：0.37695440277934966\n",
      "正确率：0.21675332797284014\n",
      "召回率：1.0\n",
      "准确率：0.7757337846085557\n",
      "f-measure：0.35628146311949666\n",
      "正确率：0.22262620009098882\n",
      "召回率：1.0\n",
      "准确率：0.7831576319147756\n",
      "f-measure：0.3641770478571796\n",
      "正确率：0.21859722545144544\n",
      "召回率：1.0\n",
      "准确率：0.7801831646490922\n",
      "f-measure：0.35876862491700356\n",
      "正确率：0.22126768753634424\n",
      "召回率：1.0\n",
      "准确率：0.7853659213227543\n",
      "f-measure：0.3623573927231403\n",
      "正确率：0.24295622895622898\n",
      "召回率：1.0\n",
      "准确率：0.7980048369566992\n",
      "f-measure：0.3909328796883719\n",
      "正确率：0.2958409882800127\n",
      "召回率：1.0\n",
      "准确率：0.8306751830177779\n",
      "f-measure：0.45660075727761396\n"
     ]
    }
   ],
   "source": [
    "kValues = []\n",
    "kNNIPNCPrecisions = []\n",
    "kNNIPNCRecalls = [] \n",
    "kNNIPNCF_measures = []\n",
    "for i in range(3, 11):\n",
    "    kValues.append(i)\n",
    "for i in kValues:\n",
    "    kNNIPNCs = at.testKNNByDir(fileName, 'IPNC_KNN', i)\n",
    "    kNNIPNCPrecisions.append(kNNIPNCs[0])\n",
    "    kNNIPNCRecalls.append(kNNIPNCs[1])\n",
    "    kNNIPNCF_measures.append(kNNIPNCs[2])"
   ]
  },
  {
   "cell_type": "code",
   "execution_count": 10,
   "metadata": {},
   "outputs": [
    {
     "data": {
      "image/png": "[encoded data removed]",
      "text/plain": [
       "<matplotlib.figure.Figure at 0x11c05db1438>"
      ]
     },
     "metadata": {},
     "output_type": "display_data"
    }
   ],
   "source": [
    "cp.createKNNPlotter(kValues, kNNPrecisions, kNNIPDCPrecisions, kNNIPDSPrecisions, kNNIPDCSPrecisions, 'precision')"
   ]
  },
  {
   "cell_type": "code",
   "execution_count": 11,
   "metadata": {},
   "outputs": [
    {
     "data": {
      "image/png": "[encoded data removed]",
      "text/plain": [
       "<matplotlib.figure.Figure at 0x11c05ccb780>"
      ]
     },
     "metadata": {},
     "output_type": "display_data"
    }
   ],
   "source": [
    "cp.createKNNPlotter(kValues, kNNRecalls, kNNIPDCRecalls, kNNIPDSRecalls, kNNIPDCSRecalls, 'recall')"
   ]
  },
  {
   "cell_type": "code",
   "execution_count": 12,
   "metadata": {},
   "outputs": [
    {
     "data": {
      "image/png": "[encoded data removed]",
      "text/plain": [
       "<matplotlib.figure.Figure at 0x11c06067e48>"
      ]
     },
     "metadata": {},
     "output_type": "display_data"
    }
   ],
   "source": [
    "cp.createKNNPlotter(kValues, kNNF_measures, kNNIPDCF_measures, kNNIPDSF_measures, kNNIPDCSF_measures, 'F-measure')"
   ]
  },
  {
   "cell_type": "code",
   "execution_count": 13,
   "metadata": {},
   "outputs": [],
   "source": [
    "precisions.append(kNNIPDCPrecisions[3])\n",
    "recalls.append(kNNIPDCRecalls[3])\n",
    "f_measures.append(kNNIPDCF_measures[3])\n",
    "precisions.append(kNNIPDSPrecisions[3])\n",
    "recalls.append(kNNIPDSRecalls[3])\n",
    "f_measures.append(kNNIPDSF_measures[3])\n",
    "precisions.append(kNNIPDCSPrecisions[3])\n",
    "recalls.append(kNNIPDCSRecalls[3])\n",
    "f_measures.append(kNNIPDCSF_measures[3])\n",
    "precisions.append(kNNPrecisions[3])\n",
    "recalls.append(kNNRecalls[3])\n",
    "f_measures.append(kNNF_measures[3])"
   ]
  },
  {
   "cell_type": "code",
   "execution_count": 14,
   "metadata": {},
   "outputs": [
    {
     "name": "stdout",
     "output_type": "stream",
     "text": [
      "正确率：0.4\n",
      "召回率：0.1\n",
      "准确率：0.9465330247951147\n",
      "f-measure：0.16000000000000003\n"
     ]
    }
   ],
   "source": [
    "SVMs = at.testOthersByDir(fileName, 'SVM', 0)\n",
    "precisions.append(SVMs[0])\n",
    "recalls.append(SVMs[1])\n",
    "f_measures.append(SVMs[2])"
   ]
  },
  {
   "cell_type": "code",
   "execution_count": 15,
   "metadata": {},
   "outputs": [
    {
     "name": "stdout",
     "output_type": "stream",
     "text": [
      "正确率：0.7071895424836601\n",
      "召回率：0.4875\n",
      "准确率：0.9644101817612135\n",
      "f-measure：0.5771455925596662\n"
     ]
    }
   ],
   "source": [
    "RFs = at.testOthersByDir(fileName, 'RF')\n",
    "precisions.append(RFs[0])\n",
    "recalls.append(RFs[1])\n",
    "f_measures.append(RFs[2])"
   ]
  },
  {
   "cell_type": "code",
   "execution_count": 16,
   "metadata": {},
   "outputs": [
    {
     "name": "stdout",
     "output_type": "stream",
     "text": [
      "正确率：0.31942366798727945\n",
      "召回率：0.975\n",
      "准确率：0.8597506127790959\n",
      "f-measure：0.48119960101140247\n"
     ]
    }
   ],
   "source": [
    "bayes = at.testOthersByDir(fileName, 'Bayes')\n",
    "precisions.append(bayes[0])\n",
    "recalls.append(bayes[1])\n",
    "f_measures.append(bayes[2])"
   ]
  },
  {
   "cell_type": "code",
   "execution_count": 17,
   "metadata": {},
   "outputs": [
    {
     "name": "stdout",
     "output_type": "stream",
     "text": [
      "正确率：0.6881904761904762\n",
      "召回率：0.7125\n",
      "准确率：0.9584400325074822\n",
      "f-measure：0.7001342875112614\n"
     ]
    }
   ],
   "source": [
    "trees = at.testOthersByDir(fileName, 'Tree')\n",
    "precisions.append(trees[0])\n",
    "recalls.append(trees[1])\n",
    "f_measures.append(trees[2])"
   ]
  },
  {
   "cell_type": "code",
   "execution_count": 18,
   "metadata": {},
   "outputs": [
    {
     "data": {
      "image/png": "[encoded data removed]",
      "text/plain": [
       "<matplotlib.figure.Figure at 0x11c01d15da0>"
      ]
     },
     "metadata": {},
     "output_type": "display_data"
    }
   ],
   "source": [
    "cp.createClassPlotter(precisions, recalls, f_measures)"
   ]
  }
 ],
 "metadata": {
  "kernelspec": {
   "display_name": "Python 3",
   "language": "python",
   "name": "python3"
  },
  "language_info": {
   "codemirror_mode": {
    "name": "ipython",
    "version": 3
   },
   "file_extension": ".py",
   "mimetype": "text/x-python",
   "name": "python",
   "nbconvert_exporter": "python",
   "pygments_lexer": "ipython3",
   "version": "3.6.4"
  }
 },
 "nbformat": 4,
 "nbformat_minor": 2
}
