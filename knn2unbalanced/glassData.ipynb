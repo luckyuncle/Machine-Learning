{
 "cells": [
  {
   "cell_type": "code",
   "execution_count": 1,
   "metadata": {},
   "outputs": [],
   "source": [
    "import kNN\n",
    "from imp import reload\n",
    "import createPlotter as cp\n",
    "fileName = 'glass.dat'\n",
    "file = 'glass'"
   ]
  },
  {
   "cell_type": "code",
   "execution_count": 2,
   "metadata": {},
   "outputs": [],
   "source": [
    "dataMat, labels, features = kNN.file2matrix(fileName)"
   ]
  },
  {
   "cell_type": "code",
   "execution_count": 3,
   "metadata": {},
   "outputs": [
    {
     "data": {
      "image/png": "[encoded data removed]",
      "text/plain": [
       "<matplotlib.figure.Figure at 0x1c571bce470>"
      ]
     },
     "metadata": {},
     "output_type": "display_data"
    }
   ],
   "source": [
    "cp.createIRPlotter(dataMat, labels, features, file)"
   ]
  },
  {
   "cell_type": "code",
   "execution_count": 4,
   "metadata": {},
   "outputs": [],
   "source": [
    "precisions = []\n",
    "recalls = []\n",
    "f_measures = []"
   ]
  },
  {
   "cell_type": "code",
   "execution_count": 5,
   "metadata": {},
   "outputs": [
    {
     "name": "stdout",
     "output_type": "stream",
     "text": [
      "正确率：1.0\n",
      "召回率：1.0\n",
      "准确率：1.0\n",
      "f-measure：1.0\n",
      "正确率：1.0\n",
      "召回率：1.0\n",
      "准确率：1.0\n",
      "f-measure：1.0\n",
      "正确率：0.9833333333333332\n",
      "召回率：1.0\n",
      "准确率：0.9955555555555555\n",
      "f-measure：0.9915966386554621\n",
      "正确率：0.9833333333333332\n",
      "召回率：1.0\n",
      "准确率：0.9955555555555555\n",
      "f-measure：0.9915966386554621\n",
      "正确率：0.7453797705305366\n",
      "召回率：0.8197281756603333\n",
      "准确率：0.8633333333333331\n",
      "f-measure：0.7807880612429019\n",
      "正确率：0.7703138359578594\n",
      "召回率：0.8969447538632291\n",
      "准确率：0.8944444444444445\n",
      "f-measure：0.8288203860023955\n",
      "正确率：0.7703138359578594\n",
      "召回率：0.852137991405538\n",
      "准确率：0.8833333333333334\n",
      "f-measure：0.8091626190119253\n",
      "正确率：0.78034208454543\n",
      "召回率：0.8536346064925784\n",
      "准确率：0.8866666666666667\n",
      "f-measure：0.815344566325936\n"
     ]
    }
   ],
   "source": [
    "kValues = []\n",
    "kNNPrecisions = []\n",
    "kNNRecalls = [] \n",
    "kNNF_measures = []\n",
    "for i in range(3, 11):\n",
    "    kValues.append(i)\n",
    "for i in kValues:\n",
    "    kNNPrecision, kNNRecall, kNNF_measure = kNN.testKNN(fileName, i)\n",
    "    kNNPrecisions.append(kNNPrecision)\n",
    "    kNNRecalls.append(kNNRecall)\n",
    "    kNNF_measures.append(kNNF_measure)"
   ]
  },
  {
   "cell_type": "code",
   "execution_count": 6,
   "metadata": {},
   "outputs": [
    {
     "name": "stdout",
     "output_type": "stream",
     "text": [
      "正确率：1.0\n",
      "召回率：1.0\n",
      "准确率：1.0\n",
      "f-measure：1.0\n",
      "正确率：1.0\n",
      "召回率：1.0\n",
      "准确率：1.0\n",
      "f-measure：1.0\n",
      "正确率：1.0\n",
      "召回率：1.0\n",
      "准确率：1.0\n",
      "f-measure：1.0\n",
      "正确率：1.0\n",
      "召回率：1.0\n",
      "准确率：1.0\n",
      "f-measure：1.0\n",
      "正确率：1.0\n",
      "召回率：1.0\n",
      "准确率：1.0\n",
      "f-measure：1.0\n",
      "正确率：1.0\n",
      "召回率：1.0\n",
      "准确率：1.0\n",
      "f-measure：1.0\n",
      "正确率：1.0\n",
      "召回率：1.0\n",
      "准确率：1.0\n",
      "f-measure：1.0\n",
      "正确率：1.0\n",
      "召回率：1.0\n",
      "准确率：1.0\n",
      "f-measure：1.0\n"
     ]
    }
   ],
   "source": [
    "kValues = []\n",
    "kNNIPPrecisions = []\n",
    "kNNIPRecalls = [] \n",
    "kNNIPF_measures = []\n",
    "for i in range(3, 11):\n",
    "    kValues.append(i)\n",
    "for i in kValues:\n",
    "    kNNIPPrecision, kNNIPRecall, kNNIPF_measure = kNN.testIPKNN(fileName, i)\n",
    "    kNNIPPrecisions.append(kNNIPPrecision)\n",
    "    kNNIPRecalls.append(kNNIPRecall)\n",
    "    kNNIPF_measures.append(kNNIPF_measure)"
   ]
  },
  {
   "cell_type": "code",
   "execution_count": 7,
   "metadata": {},
   "outputs": [
    {
     "name": "stdout",
     "output_type": "stream",
     "text": [
      "正确率：1.0\n",
      "召回率：1.0\n",
      "准确率：1.0\n",
      "f-measure：1.0\n",
      "正确率：1.0\n",
      "召回率：1.0\n",
      "准确率：1.0\n",
      "f-measure：1.0\n",
      "正确率：1.0\n",
      "召回率：1.0\n",
      "准确率：1.0\n",
      "f-measure：1.0\n",
      "正确率：1.0\n",
      "召回率：1.0\n",
      "准确率：1.0\n",
      "f-measure：1.0\n",
      "正确率：1.0\n",
      "召回率：1.0\n",
      "准确率：1.0\n",
      "f-measure：1.0\n",
      "正确率：1.0\n",
      "召回率：1.0\n",
      "准确率：1.0\n",
      "f-measure：1.0\n",
      "正确率：1.0\n",
      "召回率：1.0\n",
      "准确率：1.0\n",
      "f-measure：1.0\n",
      "正确率：1.0\n",
      "召回率：1.0\n",
      "准确率：1.0\n",
      "f-measure：1.0\n"
     ]
    }
   ],
   "source": [
    "kValues = []\n",
    "kNNIP2Precisions = []\n",
    "kNNIP2Recalls = [] \n",
    "kNNIP2F_measures = []\n",
    "for i in range(3, 11):\n",
    "    kValues.append(i)\n",
    "for i in kValues:\n",
    "    kNNIP2Precision, kNNIP2Recall, kNNIP2F_measure = kNN.testIP2KNN(fileName, i)\n",
    "    kNNIP2Precisions.append(kNNIP2Precision)\n",
    "    kNNIP2Recalls.append(kNNIP2Recall)\n",
    "    kNNIP2F_measures.append(kNNIP2F_measure)"
   ]
  },
  {
   "cell_type": "code",
   "execution_count": 8,
   "metadata": {},
   "outputs": [
    {
     "name": "stdout",
     "output_type": "stream",
     "text": [
      "正确率：1.0\n",
      "召回率：1.0\n",
      "准确率：1.0\n",
      "f-measure：1.0\n",
      "正确率：1.0\n",
      "召回率：1.0\n",
      "准确率：1.0\n",
      "f-measure：1.0\n",
      "正确率：1.0\n",
      "召回率：1.0\n",
      "准确率：1.0\n",
      "f-measure：1.0\n",
      "正确率：1.0\n",
      "召回率：1.0\n",
      "准确率：1.0\n",
      "f-measure：1.0\n",
      "正确率：1.0\n",
      "召回率：1.0\n",
      "准确率：1.0\n",
      "f-measure：1.0\n",
      "正确率：1.0\n",
      "召回率：1.0\n",
      "准确率：1.0\n",
      "f-measure：1.0\n",
      "正确率：1.0\n",
      "召回率：1.0\n",
      "准确率：1.0\n",
      "f-measure：1.0\n",
      "正确率：1.0\n",
      "召回率：1.0\n",
      "准确率：1.0\n",
      "f-measure：1.0\n"
     ]
    }
   ],
   "source": [
    "kValues = []\n",
    "kNNIP3Precisions = []\n",
    "kNNIP3Recalls = [] \n",
    "kNNIP3F_measures = []\n",
    "for i in range(3, 11):\n",
    "    kValues.append(i)\n",
    "for i in kValues:\n",
    "    kNNIP3Precision, kNNIP3Recall, kNNIP3F_measure = kNN.testIP3KNN(fileName, i)\n",
    "    kNNIP3Precisions.append(kNNIP3Precision)\n",
    "    kNNIP3Recalls.append(kNNIP3Recall)\n",
    "    kNNIP3F_measures.append(kNNIP3F_measure)"
   ]
  },
  {
   "cell_type": "code",
   "execution_count": 9,
   "metadata": {},
   "outputs": [
    {
     "data": {
      "image/png": "[encoded data removed]",
      "text/plain": [
       "<matplotlib.figure.Figure at 0x1c573bef438>"
      ]
     },
     "metadata": {},
     "output_type": "display_data"
    }
   ],
   "source": [
    "cp.createKNNPlotter(kValues, kNNPrecisions, kNNIPPrecisions, kNNIP2Precisions, kNNIP3Precisions, 'precision')"
   ]
  },
  {
   "cell_type": "code",
   "execution_count": 10,
   "metadata": {},
   "outputs": [
    {
     "data": {
      "image/png": "[encoded data removed]",
      "text/plain": [
       "<matplotlib.figure.Figure at 0x1c573f4d780>"
      ]
     },
     "metadata": {},
     "output_type": "display_data"
    }
   ],
   "source": [
    "cp.createKNNPlotter(kValues, kNNRecalls, kNNIPRecalls, kNNIP2Recalls, kNNIP3Recalls, 'recall')"
   ]
  },
  {
   "cell_type": "code",
   "execution_count": 11,
   "metadata": {},
   "outputs": [
    {
     "data": {
      "image/png": "[encoded data removed]",
      "text/plain": [
       "<matplotlib.figure.Figure at 0x1c573fed588>"
      ]
     },
     "metadata": {},
     "output_type": "display_data"
    }
   ],
   "source": [
    "cp.createKNNPlotter(kValues, kNNF_measures, kNNIPF_measures, kNNIP2F_measures, kNNIP3F_measures, 'F-measure')"
   ]
  },
  {
   "cell_type": "code",
   "execution_count": 12,
   "metadata": {},
   "outputs": [],
   "source": [
    "precisions.append(kNNIPPrecisions[3])\n",
    "recalls.append(kNNIPRecalls[3])\n",
    "f_measures.append(kNNIPF_measures[3])\n",
    "precisions.append(kNNIP2Precisions[3])\n",
    "recalls.append(kNNIP2Recalls[3])\n",
    "f_measures.append(kNNIP2F_measures[3])\n",
    "precisions.append(kNNIP3Precisions[3])\n",
    "recalls.append(kNNIP3Recalls[3])\n",
    "f_measures.append(kNNIP3F_measures[3])\n",
    "precisions.append(kNNPrecisions[3])\n",
    "recalls.append(kNNRecalls[3])\n",
    "f_measures.append(kNNF_measures[3])"
   ]
  },
  {
   "cell_type": "code",
   "execution_count": 13,
   "metadata": {},
   "outputs": [
    {
     "name": "stdout",
     "output_type": "stream",
     "text": [
      "正确率：0.6224827703515439\n",
      "召回率：0.757686891783666\n",
      "准确率：0.8133333333333332\n",
      "f-measure：0.6834624008861042\n"
     ]
    }
   ],
   "source": [
    "SVMs = kNN.testSVM(fileName)\n",
    "precisions.append(SVMs[0])\n",
    "recalls.append(SVMs[1])\n",
    "f_measures.append(SVMs[2])"
   ]
  },
  {
   "cell_type": "code",
   "execution_count": 14,
   "metadata": {},
   "outputs": [
    {
     "name": "stdout",
     "output_type": "stream",
     "text": [
      "正确率：1.0\n",
      "召回率：1.0\n",
      "准确率：1.0\n",
      "f-measure：1.0\n"
     ]
    }
   ],
   "source": [
    "RFs = kNN.testRandomForest(fileName)\n",
    "precisions.append(RFs[0])\n",
    "recalls.append(RFs[1])\n",
    "f_measures.append(RFs[2])"
   ]
  },
  {
   "cell_type": "code",
   "execution_count": 15,
   "metadata": {},
   "outputs": [
    {
     "name": "stdout",
     "output_type": "stream",
     "text": [
      "正确率：0.8953171088518876\n",
      "召回率：0.4533054778935786\n",
      "准确率：0.5877777777777777\n",
      "f-measure：0.6018765426045782\n"
     ]
    }
   ],
   "source": [
    "bayes = kNN.testBayes(fileName)\n",
    "precisions.append(bayes[0])\n",
    "recalls.append(bayes[1])\n",
    "f_measures.append(bayes[2])"
   ]
  },
  {
   "cell_type": "code",
   "execution_count": 16,
   "metadata": {},
   "outputs": [
    {
     "name": "stdout",
     "output_type": "stream",
     "text": [
      "正确率：1.0\n",
      "召回率：1.0\n",
      "准确率：1.0\n",
      "f-measure：1.0\n"
     ]
    }
   ],
   "source": [
    "trees = kNN.testDecisionTree(fileName)\n",
    "precisions.append(trees[0])\n",
    "recalls.append(trees[1])\n",
    "f_measures.append(trees[2])"
   ]
  },
  {
   "cell_type": "code",
   "execution_count": 17,
   "metadata": {},
   "outputs": [
    {
     "data": {
      "image/png": "[encoded data removed]",
      "text/plain": [
       "<matplotlib.figure.Figure at 0x1c5740a7f60>"
      ]
     },
     "metadata": {},
     "output_type": "display_data"
    }
   ],
   "source": [
    "reload(cp)\n",
    "cp.createClassPlotter(precisions, recalls, f_measures)"
   ]
  }
 ],
 "metadata": {
  "kernelspec": {
   "display_name": "Python 3",
   "language": "python",
   "name": "python3"
  },
  "language_info": {
   "codemirror_mode": {
    "name": "ipython",
    "version": 3
   },
   "file_extension": ".py",
   "mimetype": "text/x-python",
   "name": "python",
   "nbconvert_exporter": "python",
   "pygments_lexer": "ipython3",
   "version": "3.6.4"
  }
 },
 "nbformat": 4,
 "nbformat_minor": 2
}
