{
 "cells": [
  {
   "cell_type": "code",
   "execution_count": 1,
   "metadata": {},
   "outputs": [],
   "source": [
    "import algorithmTest as at\n",
    "import createPlotter as cp\n",
    "import dataTreat as dt\n",
    "from imp import reload\n",
    "fileName = 'glass.dat'\n",
    "file = 'glass'"
   ]
  },
  {
   "cell_type": "code",
   "execution_count": 2,
   "metadata": {},
   "outputs": [],
   "source": [
    "dataMat, labels, features = dt.file2matrix(fileName)"
   ]
  },
  {
   "cell_type": "code",
   "execution_count": 3,
   "metadata": {},
   "outputs": [
    {
     "data": {
      "image/png": "[encoded data removed]",
      "text/plain": [
       "<matplotlib.figure.Figure at 0x1c3b3492cf8>"
      ]
     },
     "metadata": {},
     "output_type": "display_data"
    }
   ],
   "source": [
    "cp.createIRPlotter(dataMat, labels, features, file)"
   ]
  },
  {
   "cell_type": "code",
   "execution_count": 4,
   "metadata": {},
   "outputs": [],
   "source": [
    "precisions = []\n",
    "recalls = []\n",
    "f_measures = []"
   ]
  },
  {
   "cell_type": "code",
   "execution_count": 5,
   "metadata": {},
   "outputs": [
    {
     "name": "stdout",
     "output_type": "stream",
     "text": [
      "正确率：1.0\n",
      "召回率：1.0\n",
      "准确率：1.0\n",
      "f-measure：1.0\n",
      "正确率：1.0\n",
      "召回率：1.0\n",
      "准确率：1.0\n",
      "f-measure：1.0\n",
      "正确率：1.0\n",
      "召回率：0.9833333333333332\n",
      "准确率：0.9955555555555555\n",
      "f-measure：0.9915966386554621\n",
      "正确率：1.0\n",
      "召回率：0.9833333333333332\n",
      "准确率：0.9955555555555555\n",
      "f-measure：0.9915966386554621\n",
      "正确率：0.8197281756603333\n",
      "召回率：0.7453797705305366\n",
      "准确率：0.8633333333333331\n",
      "f-measure：0.7807880612429019\n",
      "正确率：0.8969447538632291\n",
      "召回率：0.7703138359578594\n",
      "准确率：0.8944444444444445\n",
      "f-measure：0.8288203860023955\n",
      "正确率：0.852137991405538\n",
      "召回率：0.7703138359578594\n",
      "准确率：0.8833333333333334\n",
      "f-measure：0.8091626190119253\n",
      "正确率：0.8536346064925784\n",
      "召回率：0.78034208454543\n",
      "准确率：0.8866666666666667\n",
      "f-measure：0.815344566325936\n"
     ]
    }
   ],
   "source": [
    "kValues = []\n",
    "kNNPrecisions = []\n",
    "kNNRecalls = [] \n",
    "kNNF_measures = []\n",
    "for i in range(3, 11):\n",
    "    kValues.append(i)\n",
    "for i in kValues:\n",
    "    kNNs = at.testKNNByFile(fileName, 'KNN', i)\n",
    "    kNNPrecisions.append(kNNs[0])\n",
    "    kNNRecalls.append(kNNs[1])\n",
    "    kNNF_measures.append(kNNs[2])"
   ]
  },
  {
   "cell_type": "code",
   "execution_count": 6,
   "metadata": {},
   "outputs": [
    {
     "name": "stdout",
     "output_type": "stream",
     "text": [
      "正确率：1.0\n",
      "召回率：1.0\n",
      "准确率：1.0\n",
      "f-measure：1.0\n",
      "正确率：1.0\n",
      "召回率：1.0\n",
      "准确率：1.0\n",
      "f-measure：1.0\n",
      "正确率：1.0\n",
      "召回率：1.0\n",
      "准确率：1.0\n",
      "f-measure：1.0\n",
      "正确率：1.0\n",
      "召回率：1.0\n",
      "准确率：1.0\n",
      "f-measure：1.0\n",
      "正确率：1.0\n",
      "召回率：1.0\n",
      "准确率：1.0\n",
      "f-measure：1.0\n",
      "正确率：1.0\n",
      "召回率：1.0\n",
      "准确率：1.0\n",
      "f-measure：1.0\n",
      "正确率：1.0\n",
      "召回率：1.0\n",
      "准确率：1.0\n",
      "f-measure：1.0\n",
      "正确率：1.0\n",
      "召回率：1.0\n",
      "准确率：1.0\n",
      "f-measure：1.0\n"
     ]
    }
   ],
   "source": [
    "kValues = []\n",
    "kNNIPDCPrecisions = []\n",
    "kNNIPDCRecalls = [] \n",
    "kNNIPDCF_measures = []\n",
    "for i in range(3, 11):\n",
    "    kValues.append(i)\n",
    "for i in kValues:\n",
    "    kNNIPDCs = at.testKNNByFile(fileName, 'IPDC_KNN', i)\n",
    "    kNNIPDCPrecisions.append(kNNIPDCs[0])\n",
    "    kNNIPDCRecalls.append(kNNIPDCs[1])\n",
    "    kNNIPDCF_measures.append(kNNIPDCs[2])"
   ]
  },
  {
   "cell_type": "code",
   "execution_count": 7,
   "metadata": {},
   "outputs": [
    {
     "name": "stdout",
     "output_type": "stream",
     "text": [
      "正确率：1.0\n",
      "召回率：1.0\n",
      "准确率：1.0\n",
      "f-measure：1.0\n",
      "正确率：1.0\n",
      "召回率：1.0\n",
      "准确率：1.0\n",
      "f-measure：1.0\n",
      "正确率：1.0\n",
      "召回率：1.0\n",
      "准确率：1.0\n",
      "f-measure：1.0\n",
      "正确率：1.0\n",
      "召回率：1.0\n",
      "准确率：1.0\n",
      "f-measure：1.0\n",
      "正确率：1.0\n",
      "召回率：1.0\n",
      "准确率：1.0\n",
      "f-measure：1.0\n",
      "正确率：1.0\n",
      "召回率：1.0\n",
      "准确率：1.0\n",
      "f-measure：1.0\n",
      "正确率：1.0\n",
      "召回率：1.0\n",
      "准确率：1.0\n",
      "f-measure：1.0\n",
      "正确率：1.0\n",
      "召回率：1.0\n",
      "准确率：1.0\n",
      "f-measure：1.0\n"
     ]
    }
   ],
   "source": [
    "kValues = []\n",
    "kNNIPDSPrecisions = []\n",
    "kNNIPDSRecalls = [] \n",
    "kNNIPDSF_measures = []\n",
    "for i in range(3, 11):\n",
    "    kValues.append(i)\n",
    "for i in kValues:\n",
    "    kNNIPDSs = at.testKNNByFile(fileName, 'IPDS_KNN', i)\n",
    "    kNNIPDSPrecisions.append(kNNIPDSs[0])\n",
    "    kNNIPDSRecalls.append(kNNIPDSs[1])\n",
    "    kNNIPDSF_measures.append(kNNIPDSs[2])"
   ]
  },
  {
   "cell_type": "code",
   "execution_count": 8,
   "metadata": {},
   "outputs": [
    {
     "name": "stdout",
     "output_type": "stream",
     "text": [
      "正确率：1.0\n",
      "召回率：1.0\n",
      "准确率：1.0\n",
      "f-measure：1.0\n",
      "正确率：1.0\n",
      "召回率：1.0\n",
      "准确率：1.0\n",
      "f-measure：1.0\n",
      "正确率：1.0\n",
      "召回率：1.0\n",
      "准确率：1.0\n",
      "f-measure：1.0\n",
      "正确率：1.0\n",
      "召回率：1.0\n",
      "准确率：1.0\n",
      "f-measure：1.0\n",
      "正确率：1.0\n",
      "召回率：1.0\n",
      "准确率：1.0\n",
      "f-measure：1.0\n",
      "正确率：1.0\n",
      "召回率：1.0\n",
      "准确率：1.0\n",
      "f-measure：1.0\n",
      "正确率：1.0\n",
      "召回率：1.0\n",
      "准确率：1.0\n",
      "f-measure：1.0\n",
      "正确率：1.0\n",
      "召回率：1.0\n",
      "准确率：1.0\n",
      "f-measure：1.0\n"
     ]
    }
   ],
   "source": [
    "kValues = []\n",
    "kNNIPDCSPrecisions = []\n",
    "kNNIPDCSRecalls = [] \n",
    "kNNIPDCSF_measures = []\n",
    "for i in range(3, 11):\n",
    "    kValues.append(i)\n",
    "for i in kValues:\n",
    "    kNNIPDCSs = at.testKNNByFile(fileName, 'IPDCS_KNN', i)\n",
    "    kNNIPDCSPrecisions.append(kNNIPDCSs[0])\n",
    "    kNNIPDCSRecalls.append(kNNIPDCSs[1])\n",
    "    kNNIPDCSF_measures.append(kNNIPDCSs[2])"
   ]
  },
  {
   "cell_type": "code",
   "execution_count": 9,
   "metadata": {},
   "outputs": [
    {
     "name": "stdout",
     "output_type": "stream",
     "text": [
      "正确率：1.0\n",
      "召回率：1.0\n",
      "准确率：1.0\n",
      "f-measure：1.0\n",
      "正确率：1.0\n",
      "召回率：1.0\n",
      "准确率：1.0\n",
      "f-measure：1.0\n",
      "正确率：1.0\n",
      "召回率：1.0\n",
      "准确率：1.0\n",
      "f-measure：1.0\n",
      "正确率：1.0\n",
      "召回率：1.0\n",
      "准确率：1.0\n",
      "f-measure：1.0\n",
      "正确率：1.0\n",
      "召回率：1.0\n",
      "准确率：1.0\n",
      "f-measure：1.0\n",
      "正确率：1.0\n",
      "召回率：1.0\n",
      "准确率：1.0\n",
      "f-measure：1.0\n",
      "正确率：1.0\n",
      "召回率：1.0\n",
      "准确率：1.0\n",
      "f-measure：1.0\n",
      "正确率：1.0\n",
      "召回率：1.0\n",
      "准确率：1.0\n",
      "f-measure：1.0\n"
     ]
    }
   ],
   "source": [
    "kValues = []\n",
    "kNNIPNCPrecisions = []\n",
    "kNNIPNCRecalls = [] \n",
    "kNNIPNCF_measures = []\n",
    "for i in range(3, 11):\n",
    "    kValues.append(i)\n",
    "for i in kValues:\n",
    "    kNNIPNCs = at.testKNNByFile(fileName, 'IPNC_KNN', i)\n",
    "    kNNIPNCPrecisions.append(kNNIPNCs[0])\n",
    "    kNNIPNCRecalls.append(kNNIPNCs[1])\n",
    "    kNNIPNCF_measures.append(kNNIPNCs[2])"
   ]
  },
  {
   "cell_type": "code",
   "execution_count": 10,
   "metadata": {},
   "outputs": [
    {
     "data": {
      "image/png": "[encoded data removed]",
      "text/plain": [
       "<matplotlib.figure.Figure at 0x1c3b3677160>"
      ]
     },
     "metadata": {},
     "output_type": "display_data"
    }
   ],
   "source": [
    "cp.createKNNPlotter(kValues, kNNPrecisions, kNNIPDCPrecisions, kNNIPDSPrecisions, kNNIPDCSPrecisions, 'precision')"
   ]
  },
  {
   "cell_type": "code",
   "execution_count": 11,
   "metadata": {},
   "outputs": [
    {
     "data": {
      "image/png": "[encoded data removed]",
      "text/plain": [
       "<matplotlib.figure.Figure at 0x1c3b35f74a8>"
      ]
     },
     "metadata": {},
     "output_type": "display_data"
    }
   ],
   "source": [
    "cp.createKNNPlotter(kValues, kNNRecalls, kNNIPDCRecalls, kNNIPDSRecalls, kNNIPDCSRecalls, 'recall')"
   ]
  },
  {
   "cell_type": "code",
   "execution_count": 12,
   "metadata": {},
   "outputs": [
    {
     "data": {
      "image/png": "[encoded data removed]",
      "text/plain": [
       "<matplotlib.figure.Figure at 0x1c3b3972358>"
      ]
     },
     "metadata": {},
     "output_type": "display_data"
    }
   ],
   "source": [
    "cp.createKNNPlotter(kValues, kNNF_measures, kNNIPDCF_measures, kNNIPDSF_measures, kNNIPDCSF_measures, 'F-measure')"
   ]
  },
  {
   "cell_type": "code",
   "execution_count": 13,
   "metadata": {},
   "outputs": [],
   "source": [
    "precisions.append(kNNIPDCPrecisions[3])\n",
    "recalls.append(kNNIPDCRecalls[3])\n",
    "f_measures.append(kNNIPDCF_measures[3])\n",
    "precisions.append(kNNIPDSPrecisions[3])\n",
    "recalls.append(kNNIPDSRecalls[3])\n",
    "f_measures.append(kNNIPDSF_measures[3])\n",
    "precisions.append(kNNIPDCSPrecisions[3])\n",
    "recalls.append(kNNIPDCSRecalls[3])\n",
    "f_measures.append(kNNIPDCSF_measures[3])\n",
    "precisions.append(kNNPrecisions[3])\n",
    "recalls.append(kNNRecalls[3])\n",
    "f_measures.append(kNNF_measures[3])"
   ]
  },
  {
   "cell_type": "code",
   "execution_count": 14,
   "metadata": {},
   "outputs": [
    {
     "name": "stdout",
     "output_type": "stream",
     "text": [
      "正确率：0.757686891783666\n",
      "召回率：0.6224827703515439\n",
      "准确率：0.8133333333333332\n",
      "f-measure：0.6834624008861042\n"
     ]
    }
   ],
   "source": [
    "SVMs = at.testOthersByFile(fileName, 'SVM')\n",
    "precisions.append(SVMs[0])\n",
    "recalls.append(SVMs[1])\n",
    "f_measures.append(SVMs[2])"
   ]
  },
  {
   "cell_type": "code",
   "execution_count": 15,
   "metadata": {},
   "outputs": [
    {
     "name": "stdout",
     "output_type": "stream",
     "text": [
      "正确率：1.0\n",
      "召回率：1.0\n",
      "准确率：1.0\n",
      "f-measure：1.0\n"
     ]
    }
   ],
   "source": [
    "RFs = at.testOthersByFile(fileName, 'RF')\n",
    "precisions.append(RFs[0])\n",
    "recalls.append(RFs[1])\n",
    "f_measures.append(RFs[2])"
   ]
  },
  {
   "cell_type": "code",
   "execution_count": 16,
   "metadata": {},
   "outputs": [
    {
     "name": "stdout",
     "output_type": "stream",
     "text": [
      "正确率：0.4533054778935786\n",
      "召回率：0.8953171088518876\n",
      "准确率：0.5877777777777777\n",
      "f-measure：0.6018765426045782\n"
     ]
    }
   ],
   "source": [
    "bayes = at.testOthersByFile(fileName, 'Bayes')\n",
    "precisions.append(bayes[0])\n",
    "recalls.append(bayes[1])\n",
    "f_measures.append(bayes[2])"
   ]
  },
  {
   "cell_type": "code",
   "execution_count": 17,
   "metadata": {},
   "outputs": [
    {
     "name": "stdout",
     "output_type": "stream",
     "text": [
      "正确率：1.0\n",
      "召回率：1.0\n",
      "准确率：1.0\n",
      "f-measure：1.0\n"
     ]
    }
   ],
   "source": [
    "trees = at.testOthersByFile(fileName, 'Tree')\n",
    "precisions.append(trees[0])\n",
    "recalls.append(trees[1])\n",
    "f_measures.append(trees[2])"
   ]
  },
  {
   "cell_type": "code",
   "execution_count": 18,
   "metadata": {},
   "outputs": [
    {
     "data": {
      "image/png": "[encoded data removed]",
      "text/plain": [
       "<matplotlib.figure.Figure at 0x1c3b3985198>"
      ]
     },
     "metadata": {},
     "output_type": "display_data"
    }
   ],
   "source": [
    "cp.createClassPlotter(precisions, recalls, f_measures)"
   ]
  }
 ],
 "metadata": {
  "kernelspec": {
   "display_name": "Python 3",
   "language": "python",
   "name": "python3"
  },
  "language_info": {
   "codemirror_mode": {
    "name": "ipython",
    "version": 3
   },
   "file_extension": ".py",
   "mimetype": "text/x-python",
   "name": "python",
   "nbconvert_exporter": "python",
   "pygments_lexer": "ipython3",
   "version": "3.6.4"
  }
 },
 "nbformat": 4,
 "nbformat_minor": 2
}
