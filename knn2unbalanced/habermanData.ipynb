{
 "cells": [
  {
   "cell_type": "code",
   "execution_count": 1,
   "metadata": {},
   "outputs": [],
   "source": [
    "import algorithmTest as at\n",
    "import createPlotter as cp\n",
    "import dataTreat as dt\n",
    "from imp import reload\n",
    "fileName = 'haberman.dat'\n",
    "file = 'haberman'"
   ]
  },
  {
   "cell_type": "code",
   "execution_count": 2,
   "metadata": {},
   "outputs": [],
   "source": [
    "dataMat, labels, features = dt.file2matrix(fileName)"
   ]
  },
  {
   "cell_type": "code",
   "execution_count": 3,
   "metadata": {},
   "outputs": [
    {
     "data": {
      "image/png": "[encoded data removed]",
      "text/plain": [
       "<matplotlib.figure.Figure at 0x218e3ba00f0>"
      ]
     },
     "metadata": {},
     "output_type": "display_data"
    }
   ],
   "source": [
    "cp.createIRPlotter(dataMat, labels, features, file)"
   ]
  },
  {
   "cell_type": "code",
   "execution_count": 4,
   "metadata": {},
   "outputs": [],
   "source": [
    "precisions = []\n",
    "recalls = []\n",
    "f_measures = []"
   ]
  },
  {
   "cell_type": "code",
   "execution_count": 5,
   "metadata": {},
   "outputs": [
    {
     "name": "stdout",
     "output_type": "stream",
     "text": [
      "正确率：0.45036478227654697\n",
      "召回率：0.36303253119429585\n",
      "准确率：0.6983333333333333\n",
      "f-measure：0.40201034393134505\n",
      "正确率：0.6694301531801531\n",
      "召回率：0.5045174433409727\n",
      "准确率：0.805\n",
      "f-measure：0.575390571740446\n",
      "正确率：0.6287950937950938\n",
      "召回率：0.4525633435192259\n",
      "准确率：0.7916666666666666\n",
      "f-measure：0.5263187491155197\n",
      "正确率：0.6744916194916195\n",
      "召回率：0.49086060181648417\n",
      "准确率：0.8083333333333332\n",
      "f-measure：0.5682082313142952\n",
      "正确率：0.4471049783549784\n",
      "召回率：0.26923913504795854\n",
      "准确率：0.7183333333333334\n",
      "f-measure：0.33609031021720426\n",
      "正确率：0.6050208125208125\n",
      "召回率：0.372382331720567\n",
      "准确率：0.7766666666666666\n",
      "f-measure：0.46101562540161484\n",
      "正确率：0.5595238095238095\n",
      "召回率：0.2962058611323317\n",
      "准确率：0.7516666666666667\n",
      "f-measure：0.3873518413752418\n",
      "正确率：0.6681204906204906\n",
      "召回率：0.3339731347084288\n",
      "准确率：0.7816666666666666\n",
      "f-measure：0.44533622203657625\n"
     ]
    }
   ],
   "source": [
    "kValues = []\n",
    "kNNPrecisions = []\n",
    "kNNRecalls = [] \n",
    "kNNF_measures = []\n",
    "for i in range(3, 11):\n",
    "    kValues.append(i)\n",
    "for i in kValues:\n",
    "    kNNs = at.testKNNByFile(fileName, 'KNN', i)\n",
    "    kNNPrecisions.append(kNNs[0])\n",
    "    kNNRecalls.append(kNNs[1])\n",
    "    kNNF_measures.append(kNNs[2])"
   ]
  },
  {
   "cell_type": "code",
   "execution_count": 6,
   "metadata": {},
   "outputs": [
    {
     "name": "stdout",
     "output_type": "stream",
     "text": [
      "正确率：0.9149758209626631\n",
      "召回率：0.9282457983193277\n",
      "准确率：0.9566666666666667\n",
      "f-measure：0.9215630421079966\n",
      "正确率：0.9149758209626631\n",
      "召回率：0.9282457983193277\n",
      "准确率：0.9566666666666667\n",
      "f-measure：0.9215630421079966\n",
      "正确率：0.9149758209626631\n",
      "召回率：0.9282457983193277\n",
      "准确率：0.9566666666666667\n",
      "f-measure：0.9215630421079966\n",
      "正确率：0.9149758209626631\n",
      "召回率：0.9282457983193277\n",
      "准确率：0.9566666666666667\n",
      "f-measure：0.9215630421079966\n",
      "正确率：0.9149758209626631\n",
      "召回率：0.9282457983193277\n",
      "准确率：0.9566666666666667\n",
      "f-measure：0.9215630421079966\n",
      "正确率：0.9149758209626631\n",
      "召回率：0.9282457983193277\n",
      "准确率：0.9566666666666667\n",
      "f-measure：0.9215630421079966\n",
      "正确率：0.9149758209626631\n",
      "召回率：0.9282457983193277\n",
      "准确率：0.9566666666666667\n",
      "f-measure：0.9215630421079966\n",
      "正确率：0.9149758209626631\n",
      "召回率：0.9282457983193277\n",
      "准确率：0.9566666666666667\n",
      "f-measure：0.9215630421079966\n"
     ]
    }
   ],
   "source": [
    "kValues = []\n",
    "kNNIPDCPrecisions = []\n",
    "kNNIPDCRecalls = [] \n",
    "kNNIPDCF_measures = []\n",
    "for i in range(3, 11):\n",
    "    kValues.append(i)\n",
    "for i in kValues:\n",
    "    kNNIPDCs = at.testKNNByFile(fileName, 'IPDC_KNN', i)\n",
    "    kNNIPDCPrecisions.append(kNNIPDCs[0])\n",
    "    kNNIPDCRecalls.append(kNNIPDCs[1])\n",
    "    kNNIPDCF_measures.append(kNNIPDCs[2])"
   ]
  },
  {
   "cell_type": "code",
   "execution_count": 7,
   "metadata": {},
   "outputs": [
    {
     "name": "stdout",
     "output_type": "stream",
     "text": [
      "正确率：0.9389181286549707\n",
      "召回率：0.90421802054155\n",
      "准确率：0.9566666666666667\n",
      "f-measure：0.9212414309307243\n",
      "正确率：0.9326681286549707\n",
      "召回率：0.91046802054155\n",
      "准确率：0.9566666666666667\n",
      "f-measure：0.9214343772584132\n",
      "正确率：0.9434932920536635\n",
      "召回率：0.90421802054155\n",
      "准确率：0.9583333333333333\n",
      "f-measure：0.9234382353125656\n",
      "正确率：0.9389181286549707\n",
      "召回率：0.90421802054155\n",
      "准确率：0.9566666666666667\n",
      "f-measure：0.9212414309307243\n",
      "正确率：0.9435620915032679\n",
      "召回率：0.8983356676003735\n",
      "准确率：0.9566666666666667\n",
      "f-measure：0.9203936290204232\n",
      "正确率：0.9435620915032679\n",
      "召回率：0.8983356676003735\n",
      "准确率：0.9566666666666667\n",
      "f-measure：0.9203936290204232\n",
      "正确率：0.9435620915032679\n",
      "召回率：0.8983356676003735\n",
      "准确率：0.9566666666666667\n",
      "f-measure：0.9203936290204232\n",
      "正确率：0.9435620915032679\n",
      "召回率：0.8983356676003735\n",
      "准确率：0.9566666666666667\n",
      "f-measure：0.9203936290204232\n"
     ]
    }
   ],
   "source": [
    "kValues = []\n",
    "kNNIPDSPrecisions = []\n",
    "kNNIPDSRecalls = [] \n",
    "kNNIPDSF_measures = []\n",
    "for i in range(3, 11):\n",
    "    kValues.append(i)\n",
    "for i in kValues:\n",
    "    kNNIPDSs = at.testKNNByFile(fileName, 'IPDS_KNN', i)\n",
    "    kNNIPDSPrecisions.append(kNNIPDSs[0])\n",
    "    kNNIPDSRecalls.append(kNNIPDSs[1])\n",
    "    kNNIPDSF_measures.append(kNNIPDSs[2])"
   ]
  },
  {
   "cell_type": "code",
   "execution_count": 8,
   "metadata": {},
   "outputs": [
    {
     "name": "stdout",
     "output_type": "stream",
     "text": [
      "正确率：0.9149758209626631\n",
      "召回率：0.9282457983193277\n",
      "准确率：0.9566666666666667\n",
      "f-measure：0.9215630421079966\n",
      "正确率：0.9149758209626631\n",
      "召回率：0.9282457983193277\n",
      "准确率：0.9566666666666667\n",
      "f-measure：0.9215630421079966\n",
      "正确率：0.9149758209626631\n",
      "召回率：0.9282457983193277\n",
      "准确率：0.9566666666666667\n",
      "f-measure：0.9215630421079966\n",
      "正确率：0.9149758209626631\n",
      "召回率：0.9282457983193277\n",
      "准确率：0.9566666666666667\n",
      "f-measure：0.9215630421079966\n",
      "正确率：0.9149758209626631\n",
      "召回率：0.9282457983193277\n",
      "准确率：0.9566666666666667\n",
      "f-measure：0.9215630421079966\n",
      "正确率：0.9149758209626631\n",
      "召回率：0.9282457983193277\n",
      "准确率：0.9566666666666667\n",
      "f-measure：0.9215630421079966\n",
      "正确率：0.9149758209626631\n",
      "召回率：0.9282457983193277\n",
      "准确率：0.9566666666666667\n",
      "f-measure：0.9215630421079966\n",
      "正确率：0.9149758209626631\n",
      "召回率：0.9282457983193277\n",
      "准确率：0.9566666666666667\n",
      "f-measure：0.9215630421079966\n"
     ]
    }
   ],
   "source": [
    "kValues = []\n",
    "kNNIPDCSPrecisions = []\n",
    "kNNIPDCSRecalls = [] \n",
    "kNNIPDCSF_measures = []\n",
    "for i in range(3, 11):\n",
    "    kValues.append(i)\n",
    "for i in kValues:\n",
    "    kNNIPDCSs = at.testKNNByFile(fileName, 'IPDCS_KNN', i)\n",
    "    kNNIPDCSPrecisions.append(kNNIPDCSs[0])\n",
    "    kNNIPDCSRecalls.append(kNNIPDCSs[1])\n",
    "    kNNIPDCSF_measures.append(kNNIPDCSs[2])"
   ]
  },
  {
   "cell_type": "code",
   "execution_count": 9,
   "metadata": {},
   "outputs": [
    {
     "name": "stdout",
     "output_type": "stream",
     "text": [
      "正确率：0.9933333333333334\n",
      "召回率：0.8983356676003735\n",
      "准确率：0.9716666666666667\n",
      "f-measure：0.9434491580813048\n",
      "正确率：0.9933333333333334\n",
      "召回率：0.8983356676003735\n",
      "准确率：0.9716666666666667\n",
      "f-measure：0.9434491580813048\n",
      "正确率：1.0\n",
      "召回率：0.8983356676003735\n",
      "准确率：0.9733333333333333\n",
      "f-measure：0.9464455448344722\n",
      "正确率：1.0\n",
      "召回率：0.8983356676003735\n",
      "准确率：0.9733333333333333\n",
      "f-measure：0.9464455448344722\n",
      "正确率：1.0\n",
      "召回率：0.8983356676003735\n",
      "准确率：0.9733333333333333\n",
      "f-measure：0.9464455448344722\n",
      "正确率：1.0\n",
      "召回率：0.8983356676003735\n",
      "准确率：0.9733333333333333\n",
      "f-measure：0.9464455448344722\n",
      "正确率：1.0\n",
      "召回率：0.8983356676003735\n",
      "准确率：0.9733333333333333\n",
      "f-measure：0.9464455448344722\n",
      "正确率：1.0\n",
      "召回率：0.8983356676003735\n",
      "准确率：0.9733333333333333\n",
      "f-measure：0.9464455448344722\n"
     ]
    }
   ],
   "source": [
    "kValues = []\n",
    "kNNIPNCPrecisions = []\n",
    "kNNIPNCRecalls = [] \n",
    "kNNIPNCF_measures = []\n",
    "for i in range(3, 11):\n",
    "    kValues.append(i)\n",
    "for i in kValues:\n",
    "    kNNIPNCs = at.testKNNByFile(fileName, 'IPNC_KNN', i)\n",
    "    kNNIPNCPrecisions.append(kNNIPNCs[0])\n",
    "    kNNIPNCRecalls.append(kNNIPNCs[1])\n",
    "    kNNIPNCF_measures.append(kNNIPNCs[2])"
   ]
  },
  {
   "cell_type": "code",
   "execution_count": 10,
   "metadata": {},
   "outputs": [
    {
     "data": {
      "image/png": "[encoded data removed]",
      "text/plain": [
       "<matplotlib.figure.Figure at 0x218e4bd9ba8>"
      ]
     },
     "metadata": {},
     "output_type": "display_data"
    }
   ],
   "source": [
    "cp.createKNNPlotter(kValues, kNNPrecisions, kNNIPDCPrecisions, kNNIPDSPrecisions, kNNIPDCSPrecisions, 'precision')"
   ]
  },
  {
   "cell_type": "code",
   "execution_count": 11,
   "metadata": {},
   "outputs": [
    {
     "data": {
      "image/png": "[encoded data removed]",
      "text/plain": [
       "<matplotlib.figure.Figure at 0x218e4bd9748>"
      ]
     },
     "metadata": {},
     "output_type": "display_data"
    }
   ],
   "source": [
    "cp.createKNNPlotter(kValues, kNNRecalls, kNNIPDCRecalls, kNNIPDSRecalls, kNNIPDCSRecalls, 'recall')"
   ]
  },
  {
   "cell_type": "code",
   "execution_count": 12,
   "metadata": {},
   "outputs": [
    {
     "data": {
      "image/png": "[encoded data removed]",
      "text/plain": [
       "<matplotlib.figure.Figure at 0x218e4ee65c0>"
      ]
     },
     "metadata": {},
     "output_type": "display_data"
    }
   ],
   "source": [
    "cp.createKNNPlotter(kValues, kNNF_measures, kNNIPDCF_measures, kNNIPDSF_measures, kNNIPDCSF_measures, 'F-measure')"
   ]
  },
  {
   "cell_type": "code",
   "execution_count": 13,
   "metadata": {},
   "outputs": [],
   "source": [
    "precisions.append(kNNIPDCPrecisions[3])\n",
    "recalls.append(kNNIPDCRecalls[3])\n",
    "f_measures.append(kNNIPDCF_measures[3])\n",
    "precisions.append(kNNIPDSPrecisions[3])\n",
    "recalls.append(kNNIPDSRecalls[3])\n",
    "f_measures.append(kNNIPDSF_measures[3])\n",
    "precisions.append(kNNIPDCSPrecisions[3])\n",
    "recalls.append(kNNIPDCSRecalls[3])\n",
    "f_measures.append(kNNIPDCSF_measures[3])\n",
    "precisions.append(kNNPrecisions[3])\n",
    "recalls.append(kNNRecalls[3])\n",
    "f_measures.append(kNNF_measures[3])"
   ]
  },
  {
   "cell_type": "code",
   "execution_count": 14,
   "metadata": {},
   "outputs": [
    {
     "name": "stdout",
     "output_type": "stream",
     "text": [
      "正确率：0.9790476190476192\n",
      "召回率：0.6914304812834224\n",
      "准确率：0.915\n",
      "f-measure：0.8104785884991046\n"
     ]
    }
   ],
   "source": [
    "SVMs = at.testOthersByFile(fileName, 'SVM')\n",
    "precisions.append(SVMs[0])\n",
    "recalls.append(SVMs[1])\n",
    "f_measures.append(SVMs[2])"
   ]
  },
  {
   "cell_type": "code",
   "execution_count": 15,
   "metadata": {},
   "outputs": [
    {
     "name": "stdout",
     "output_type": "stream",
     "text": [
      "正确率：0.9092372642837038\n",
      "召回率：0.8092492148374502\n",
      "准确率：0.9283333333333333\n",
      "f-measure：0.8563343979276828\n"
     ]
    }
   ],
   "source": [
    "RFs = at.testOthersByFile(fileName, 'RF')\n",
    "precisions.append(RFs[0])\n",
    "recalls.append(RFs[1])\n",
    "f_measures.append(RFs[2])"
   ]
  },
  {
   "cell_type": "code",
   "execution_count": 16,
   "metadata": {},
   "outputs": [
    {
     "name": "stdout",
     "output_type": "stream",
     "text": [
      "正确率：0.4866928822811176\n",
      "召回率：0.42330436720142595\n",
      "准确率：0.7383333333333334\n",
      "f-measure：0.4527908687033864\n"
     ]
    }
   ],
   "source": [
    "bayes = at.testOthersByFile(fileName, 'Bayes', 0)\n",
    "precisions.append(bayes[0])\n",
    "recalls.append(bayes[1])\n",
    "f_measures.append(bayes[2])"
   ]
  },
  {
   "cell_type": "code",
   "execution_count": 17,
   "metadata": {},
   "outputs": [
    {
     "name": "stdout",
     "output_type": "stream",
     "text": [
      "正确率：0.9481372549019607\n",
      "召回率：0.8983356676003735\n",
      "准确率：0.9583333333333333\n",
      "f-measure：0.9225648570084153\n"
     ]
    }
   ],
   "source": [
    "trees = at.testOthersByFile(fileName, 'Tree')\n",
    "precisions.append(trees[0])\n",
    "recalls.append(trees[1])\n",
    "f_measures.append(trees[2])"
   ]
  },
  {
   "cell_type": "code",
   "execution_count": 18,
   "metadata": {},
   "outputs": [
    {
     "data": {
      "image/png": "[encoded data removed]",
      "text/plain": [
       "<matplotlib.figure.Figure at 0x218e4f52ba8>"
      ]
     },
     "metadata": {},
     "output_type": "display_data"
    }
   ],
   "source": [
    "cp.createClassPlotter(precisions, recalls, f_measures)"
   ]
  }
 ],
 "metadata": {
  "kernelspec": {
   "display_name": "Python 3",
   "language": "python",
   "name": "python3"
  },
  "language_info": {
   "codemirror_mode": {
    "name": "ipython",
    "version": 3
   },
   "file_extension": ".py",
   "mimetype": "text/x-python",
   "name": "python",
   "nbconvert_exporter": "python",
   "pygments_lexer": "ipython3",
   "version": "3.6.4"
  }
 },
 "nbformat": 4,
 "nbformat_minor": 2
}
