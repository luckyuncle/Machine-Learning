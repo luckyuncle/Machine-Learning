{
 "cells": [
  {
   "cell_type": "code",
   "execution_count": 1,
   "metadata": {},
   "outputs": [],
   "source": [
    "import algorithmTest as at\n",
    "import createPlotter as cp\n",
    "import dataTreat as dt\n",
    "from imp import reload\n",
    "fileName = 'new-thyroid.dat'\n",
    "file = 'new-thyroid'"
   ]
  },
  {
   "cell_type": "code",
   "execution_count": 2,
   "metadata": {},
   "outputs": [],
   "source": [
    "dataMat, labels, features = dt.file2matrix(fileName)"
   ]
  },
  {
   "cell_type": "code",
   "execution_count": 3,
   "metadata": {},
   "outputs": [
    {
     "data": {
      "image/png": "[encoded data removed]",
      "text/plain": [
       "<matplotlib.figure.Figure at 0x279f2a3c550>"
      ]
     },
     "metadata": {},
     "output_type": "display_data"
    }
   ],
   "source": [
    "cp.createIRPlotter(dataMat, labels, features, file)"
   ]
  },
  {
   "cell_type": "code",
   "execution_count": 4,
   "metadata": {},
   "outputs": [],
   "source": [
    "precisions = []\n",
    "recalls = []\n",
    "f_measures = []"
   ]
  },
  {
   "cell_type": "code",
   "execution_count": 5,
   "metadata": {},
   "outputs": [
    {
     "name": "stdout",
     "output_type": "stream",
     "text": [
      "正确率：0.944047619047619\n",
      "召回率：0.9583333333333333\n",
      "准确率：0.9875\n",
      "f-measure：0.951136837713809\n",
      "正确率：0.9514285714285713\n",
      "召回率：1.0\n",
      "准确率：0.9925\n",
      "f-measure：0.9751098096632503\n",
      "正确率：0.9514285714285713\n",
      "召回率：0.9722222222222221\n",
      "准确率：0.9875\n",
      "f-measure：0.9617130126248039\n",
      "正确率：0.9514285714285713\n",
      "召回率：0.9722222222222221\n",
      "准确率：0.9875\n",
      "f-measure：0.9617130126248039\n",
      "正确率：0.944047619047619\n",
      "召回率：0.9180555555555555\n",
      "准确率：0.9800000000000001\n",
      "f-measure：0.9308701829160007\n",
      "正确率：0.9857142857142858\n",
      "召回率：0.9291666666666666\n",
      "准确率：0.9875\n",
      "f-measure：0.9566055331053775\n",
      "正确率：0.944047619047619\n",
      "召回率：0.9180555555555555\n",
      "准确率：0.9800000000000001\n",
      "f-measure：0.9308701829160007\n",
      "正确率：0.944047619047619\n",
      "召回率：0.9180555555555555\n",
      "准确率：0.9800000000000001\n",
      "f-measure：0.9308701829160007\n"
     ]
    }
   ],
   "source": [
    "kValues = []\n",
    "kNNPrecisions = []\n",
    "kNNRecalls = [] \n",
    "kNNF_measures = []\n",
    "for i in range(3, 11):\n",
    "    kValues.append(i)\n",
    "for i in kValues:\n",
    "    kNNs = at.testKNNByFile(fileName, 'KNN', i)\n",
    "    kNNPrecisions.append(kNNs[0])\n",
    "    kNNRecalls.append(kNNs[1])\n",
    "    kNNF_measures.append(kNNs[2])"
   ]
  },
  {
   "cell_type": "code",
   "execution_count": 6,
   "metadata": {},
   "outputs": [
    {
     "name": "stdout",
     "output_type": "stream",
     "text": [
      "正确率：0.9857142857142858\n",
      "召回率：1.0\n",
      "准确率：0.9974999999999999\n",
      "f-measure：0.9928057553956835\n",
      "正确率：0.9857142857142858\n",
      "召回率：1.0\n",
      "准确率：0.9974999999999999\n",
      "f-measure：0.9928057553956835\n",
      "正确率：0.9857142857142858\n",
      "召回率：1.0\n",
      "准确率：0.9974999999999999\n",
      "f-measure：0.9928057553956835\n",
      "正确率：0.9857142857142858\n",
      "召回率：1.0\n",
      "准确率：0.9974999999999999\n",
      "f-measure：0.9928057553956835\n",
      "正确率：0.9857142857142858\n",
      "召回率：1.0\n",
      "准确率：0.9974999999999999\n",
      "f-measure：0.9928057553956835\n",
      "正确率：0.9857142857142858\n",
      "召回率：1.0\n",
      "准确率：0.9974999999999999\n",
      "f-measure：0.9928057553956835\n",
      "正确率：0.9857142857142858\n",
      "召回率：0.9875\n",
      "准确率：0.9949999999999999\n",
      "f-measure：0.9866063348416291\n",
      "正确率：0.9857142857142858\n",
      "召回率：0.9875\n",
      "准确率：0.9949999999999999\n",
      "f-measure：0.9866063348416291\n"
     ]
    }
   ],
   "source": [
    "kValues = []\n",
    "kNNIPDCPrecisions = []\n",
    "kNNIPDCRecalls = [] \n",
    "kNNIPDCF_measures = []\n",
    "for i in range(3, 11):\n",
    "    kValues.append(i)\n",
    "for i in kValues:\n",
    "    kNNIPDCs = at.testKNNByFile(fileName, 'IPDC_KNN', i)\n",
    "    kNNIPDCPrecisions.append(kNNIPDCs[0])\n",
    "    kNNIPDCRecalls.append(kNNIPDCs[1])\n",
    "    kNNIPDCF_measures.append(kNNIPDCs[2])"
   ]
  },
  {
   "cell_type": "code",
   "execution_count": 7,
   "metadata": {},
   "outputs": [
    {
     "name": "stdout",
     "output_type": "stream",
     "text": [
      "正确率：0.9857142857142858\n",
      "召回率：1.0\n",
      "准确率：0.9974999999999999\n",
      "f-measure：0.9928057553956835\n",
      "正确率：0.9857142857142858\n",
      "召回率：1.0\n",
      "准确率：0.9974999999999999\n",
      "f-measure：0.9928057553956835\n",
      "正确率：0.9857142857142858\n",
      "召回率：1.0\n",
      "准确率：0.9974999999999999\n",
      "f-measure：0.9928057553956835\n",
      "正确率：0.9857142857142858\n",
      "召回率：1.0\n",
      "准确率：0.9974999999999999\n",
      "f-measure：0.9928057553956835\n",
      "正确率：0.9857142857142858\n",
      "召回率：1.0\n",
      "准确率：0.9974999999999999\n",
      "f-measure：0.9928057553956835\n",
      "正确率：0.9857142857142858\n",
      "召回率：1.0\n",
      "准确率：0.9974999999999999\n",
      "f-measure：0.9928057553956835\n",
      "正确率：0.9857142857142858\n",
      "召回率：1.0\n",
      "准确率：0.9974999999999999\n",
      "f-measure：0.9928057553956835\n",
      "正确率：0.9857142857142858\n",
      "召回率：1.0\n",
      "准确率：0.9974999999999999\n",
      "f-measure：0.9928057553956835\n"
     ]
    }
   ],
   "source": [
    "kValues = []\n",
    "kNNIPDSPrecisions = []\n",
    "kNNIPDSRecalls = [] \n",
    "kNNIPDSF_measures = []\n",
    "for i in range(3, 11):\n",
    "    kValues.append(i)\n",
    "for i in kValues:\n",
    "    kNNIPDSs = at.testKNNByFile(fileName, 'IPDS_KNN', i)\n",
    "    kNNIPDSPrecisions.append(kNNIPDSs[0])\n",
    "    kNNIPDSRecalls.append(kNNIPDSs[1])\n",
    "    kNNIPDSF_measures.append(kNNIPDSs[2])"
   ]
  },
  {
   "cell_type": "code",
   "execution_count": 8,
   "metadata": {},
   "outputs": [
    {
     "name": "stdout",
     "output_type": "stream",
     "text": [
      "正确率：0.9857142857142858\n",
      "召回率：1.0\n",
      "准确率：0.9974999999999999\n",
      "f-measure：0.9928057553956835\n",
      "正确率：0.9857142857142858\n",
      "召回率：1.0\n",
      "准确率：0.9974999999999999\n",
      "f-measure：0.9928057553956835\n",
      "正确率：0.9857142857142858\n",
      "召回率：1.0\n",
      "准确率：0.9974999999999999\n",
      "f-measure：0.9928057553956835\n",
      "正确率：0.9857142857142858\n",
      "召回率：1.0\n",
      "准确率：0.9974999999999999\n",
      "f-measure：0.9928057553956835\n",
      "正确率：0.9857142857142858\n",
      "召回率：1.0\n",
      "准确率：0.9974999999999999\n",
      "f-measure：0.9928057553956835\n",
      "正确率：0.9857142857142858\n",
      "召回率：1.0\n",
      "准确率：0.9974999999999999\n",
      "f-measure：0.9928057553956835\n",
      "正确率：0.9857142857142858\n",
      "召回率：1.0\n",
      "准确率：0.9974999999999999\n",
      "f-measure：0.9928057553956835\n",
      "正确率：0.9857142857142858\n",
      "召回率：1.0\n",
      "准确率：0.9974999999999999\n",
      "f-measure：0.9928057553956835\n"
     ]
    }
   ],
   "source": [
    "kValues = []\n",
    "kNNIPDCSPrecisions = []\n",
    "kNNIPDCSRecalls = [] \n",
    "kNNIPDCSF_measures = []\n",
    "for i in range(3, 11):\n",
    "    kValues.append(i)\n",
    "for i in kValues:\n",
    "    kNNIPDCSs = at.testKNNByFile(fileName, 'IPDCS_KNN', i)\n",
    "    kNNIPDCSPrecisions.append(kNNIPDCSs[0])\n",
    "    kNNIPDCSRecalls.append(kNNIPDCSs[1])\n",
    "    kNNIPDCSF_measures.append(kNNIPDCSs[2])"
   ]
  },
  {
   "cell_type": "code",
   "execution_count": 9,
   "metadata": {},
   "outputs": [
    {
     "name": "stdout",
     "output_type": "stream",
     "text": [
      "正确率：0.9857142857142858\n",
      "召回率：1.0\n",
      "准确率：0.9974999999999999\n",
      "f-measure：0.9928057553956835\n",
      "正确率：0.9857142857142858\n",
      "召回率：1.0\n",
      "准确率：0.9974999999999999\n",
      "f-measure：0.9928057553956835\n",
      "正确率：0.9857142857142858\n",
      "召回率：1.0\n",
      "准确率：0.9974999999999999\n",
      "f-measure：0.9928057553956835\n",
      "正确率：0.9857142857142858\n",
      "召回率：0.9875\n",
      "准确率：0.9949999999999999\n",
      "f-measure：0.9866063348416291\n",
      "正确率：0.9857142857142858\n",
      "召回率：0.9875\n",
      "准确率：0.9949999999999999\n",
      "f-measure：0.9866063348416291\n",
      "正确率：0.9857142857142858\n",
      "召回率：0.9875\n",
      "准确率：0.9949999999999999\n",
      "f-measure：0.9866063348416291\n",
      "正确率：0.9857142857142858\n",
      "召回率：0.9875\n",
      "准确率：0.9949999999999999\n",
      "f-measure：0.9866063348416291\n",
      "正确率：0.9857142857142858\n",
      "召回率：0.9875\n",
      "准确率：0.9949999999999999\n",
      "f-measure：0.9866063348416291\n"
     ]
    }
   ],
   "source": [
    "kValues = []\n",
    "kNNIPNCPrecisions = []\n",
    "kNNIPNCRecalls = [] \n",
    "kNNIPNCF_measures = []\n",
    "for i in range(3, 11):\n",
    "    kValues.append(i)\n",
    "for i in kValues:\n",
    "    kNNIPNCs = at.testKNNByFile(fileName, 'IPNC_KNN', i)\n",
    "    kNNIPNCPrecisions.append(kNNIPNCs[0])\n",
    "    kNNIPNCRecalls.append(kNNIPNCs[1])\n",
    "    kNNIPNCF_measures.append(kNNIPNCs[2])"
   ]
  },
  {
   "cell_type": "code",
   "execution_count": 10,
   "metadata": {},
   "outputs": [
    {
     "data": {
      "image/png": "[encoded data removed]",
      "text/plain": [
       "<matplotlib.figure.Figure at 0x279f4d429b0>"
      ]
     },
     "metadata": {},
     "output_type": "display_data"
    }
   ],
   "source": [
    "cp.createKNNPlotter(kValues, kNNPrecisions, kNNIPDCPrecisions, kNNIPDSPrecisions, kNNIPDCSPrecisions, 'precision')"
   ]
  },
  {
   "cell_type": "code",
   "execution_count": 11,
   "metadata": {},
   "outputs": [
    {
     "data": {
      "image/png": "[encoded data removed]",
      "text/plain": [
       "<matplotlib.figure.Figure at 0x279f4d425f8>"
      ]
     },
     "metadata": {},
     "output_type": "display_data"
    }
   ],
   "source": [
    "cp.createKNNPlotter(kValues, kNNRecalls, kNNIPDCRecalls, kNNIPDSRecalls, kNNIPDCSRecalls, 'recall')"
   ]
  },
  {
   "cell_type": "code",
   "execution_count": 12,
   "metadata": {},
   "outputs": [
    {
     "data": {
      "image/png": "[encoded data removed]",
      "text/plain": [
       "<matplotlib.figure.Figure at 0x279f4dc8320>"
      ]
     },
     "metadata": {},
     "output_type": "display_data"
    }
   ],
   "source": [
    "cp.createKNNPlotter(kValues, kNNF_measures, kNNIPDCF_measures, kNNIPDSF_measures, kNNIPDCSF_measures, 'F-measure')"
   ]
  },
  {
   "cell_type": "code",
   "execution_count": 13,
   "metadata": {},
   "outputs": [],
   "source": [
    "precisions.append(kNNIPDCPrecisions[3])\n",
    "recalls.append(kNNIPDCRecalls[3])\n",
    "f_measures.append(kNNIPDCF_measures[3])\n",
    "precisions.append(kNNIPDSPrecisions[3])\n",
    "recalls.append(kNNIPDSRecalls[3])\n",
    "f_measures.append(kNNIPDSF_measures[3])\n",
    "precisions.append(kNNIPDCSPrecisions[3])\n",
    "recalls.append(kNNIPDCSRecalls[3])\n",
    "f_measures.append(kNNIPDCSF_measures[3])\n",
    "precisions.append(kNNPrecisions[3])\n",
    "recalls.append(kNNRecalls[3])\n",
    "f_measures.append(kNNF_measures[3])"
   ]
  },
  {
   "cell_type": "code",
   "execution_count": 14,
   "metadata": {},
   "outputs": [
    {
     "name": "stdout",
     "output_type": "stream",
     "text": [
      "正确率：0.9732142857142858\n",
      "召回率：0.9875\n",
      "准确率：0.9925\n",
      "f-measure：0.9803051001821494\n"
     ]
    }
   ],
   "source": [
    "SVMs = at.testOthersByFile(fileName, 'SVM', 0)\n",
    "precisions.append(SVMs[0])\n",
    "recalls.append(SVMs[1])\n",
    "f_measures.append(SVMs[2])"
   ]
  },
  {
   "cell_type": "code",
   "execution_count": 15,
   "metadata": {},
   "outputs": [
    {
     "name": "stdout",
     "output_type": "stream",
     "text": [
      "正确率：0.9888888888888889\n",
      "召回率：0.9583333333333334\n",
      "准确率：0.9925\n",
      "f-measure：0.9733713742272944\n"
     ]
    }
   ],
   "source": [
    "RFs = at.testOthersByFile(fileName, 'RF')\n",
    "precisions.append(RFs[0])\n",
    "recalls.append(RFs[1])\n",
    "f_measures.append(RFs[2])"
   ]
  },
  {
   "cell_type": "code",
   "execution_count": 16,
   "metadata": {},
   "outputs": [
    {
     "name": "stdout",
     "output_type": "stream",
     "text": [
      "正确率：0.884155844155844\n",
      "召回率：1.0\n",
      "准确率：0.9749999999999999\n",
      "f-measure：0.9385166804521642\n"
     ]
    }
   ],
   "source": [
    "bayes = at.testOthersByFile(fileName, 'Bayes')\n",
    "precisions.append(bayes[0])\n",
    "recalls.append(bayes[1])\n",
    "f_measures.append(bayes[2])"
   ]
  },
  {
   "cell_type": "code",
   "execution_count": 17,
   "metadata": {},
   "outputs": [
    {
     "name": "stdout",
     "output_type": "stream",
     "text": [
      "正确率：0.9857142857142858\n",
      "召回率：1.0\n",
      "准确率：0.9974999999999999\n",
      "f-measure：0.9928057553956835\n"
     ]
    }
   ],
   "source": [
    "trees = at.testOthersByFile(fileName, 'Tree')\n",
    "precisions.append(trees[0])\n",
    "recalls.append(trees[1])\n",
    "f_measures.append(trees[2])"
   ]
  },
  {
   "cell_type": "code",
   "execution_count": 18,
   "metadata": {},
   "outputs": [
    {
     "data": {
      "image/png": "[encoded data removed]",
      "text/plain": [
       "<matplotlib.figure.Figure at 0x279f4e3b8d0>"
      ]
     },
     "metadata": {},
     "output_type": "display_data"
    }
   ],
   "source": [
    "cp.createClassPlotter(precisions, recalls, f_measures)"
   ]
  }
 ],
 "metadata": {
  "kernelspec": {
   "display_name": "Python 3",
   "language": "python",
   "name": "python3"
  },
  "language_info": {
   "codemirror_mode": {
    "name": "ipython",
    "version": 3
   },
   "file_extension": ".py",
   "mimetype": "text/x-python",
   "name": "python",
   "nbconvert_exporter": "python",
   "pygments_lexer": "ipython3",
   "version": "3.6.4"
  }
 },
 "nbformat": 4,
 "nbformat_minor": 2
}
